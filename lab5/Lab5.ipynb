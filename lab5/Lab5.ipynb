{
 "cells": [
  {
   "cell_type": "markdown",
   "id": "5ca42947",
   "metadata": {},
   "source": [
    "### Natural Language Processing"
   ]
  },
  {
   "cell_type": "markdown",
   "id": "31d73a2e",
   "metadata": {},
   "source": [
    "- Natural Language Processing or NLP for short refers to a branch of Computer Science (to be more specific it is a branch of Artificial Intelligence or AI) where computers can understand text or spoken word in the same way humans can.\n",
    "- NLP combines computational linguistics—rule-based modeling of human language—with statistical, machine learning, and deep learning models. Together, these technologies enable computers to process human language in the form of text or voice data and to ‘understand’ its full meaning, complete with the speaker or writer’s intent and sentiment.\n",
    "- We will make use of the following libraries:\n",
    "    - **sklearn**\n",
    "    - **nltk**\n",
    "- Real world applcations include:\n",
    "    - machine translation\n",
    "    - spam detection\n",
    "    - text summarisation\n",
    "    - chatbots"
   ]
  },
  {
   "cell_type": "code",
   "execution_count": 222,
   "id": "17c3ad5b",
   "metadata": {},
   "outputs": [],
   "source": [
    "import pandas as pd\n",
    "import numpy as np\n",
    "import matplotlib.pyplot as plt\n",
    "import seaborn as sns\n",
    "import string\n",
    "from string import punctuation\n",
    "from itertools import chain\n",
    "\n",
    "from sklearn.model_selection import train_test_split\n",
    "from sklearn.metrics import recall_score, f1_score\n",
    "\n",
    "from sklearn.feature_extraction.text import CountVectorizer\n",
    "from sklearn.feature_extraction.text import TfidfVectorizer\n",
    "from sklearn.linear_model import LogisticRegression\n",
    "from sklearn.decomposition import NMF, LatentDirichletAllocation, TruncatedSVD\n",
    "from sklearn.feature_selection import SelectPercentile, chi2, f_regression\n",
    "\n",
    "from sklearn import svm\n",
    "from sklearn.utils import shuffle\n",
    "\n",
    "import nltk\n",
    "from nltk.corpus import stopwords\n",
    "from nltk.stem import WordNetLemmatizer\n",
    "from nltk import ngrams"
   ]
  },
  {
   "cell_type": "markdown",
   "id": "024f7082",
   "metadata": {},
   "source": [
    "**CountVectorizer** - Count Vector is a matrix notation of the dataset in which every row represents a document from the corpus, every column represents a term from the corpus, and every cell represents the frequency count of a particular term in a particular document."
   ]
  },
  {
   "cell_type": "code",
   "execution_count": 25,
   "id": "09b3c5ee",
   "metadata": {},
   "outputs": [
    {
     "name": "stdout",
     "output_type": "stream",
     "text": [
      "Using count vectorizer\n",
      "   apple  banana  orange\n",
      "0      2       0       2\n",
      "1      2       2       0\n",
      "2      2       4       0\n",
      "3      0       4       2\n",
      "4      1       4       1\n"
     ]
    }
   ],
   "source": [
    "corpus = ['Apple Orange Orange Apple',\\\n",
    "  'Apple Banana Apple Banana',\\\n",
    "  'Banana Apple Banana Banana Banana Apple',\\\n",
    "  'Banana Orange Banana Banana Orange Banana',\\\n",
    "  'Banana Apple Banana Banana Orange Banana']\n",
    "\n",
    "print(\"Using count vectorizer\")\n",
    "tf_vectorizer = CountVectorizer()\n",
    "tf = tf_vectorizer.fit_transform(corpus)\n",
    "print(pd.DataFrame(tf.A, columns=tf_vectorizer.get_feature_names()).to_string())"
   ]
  },
  {
   "cell_type": "markdown",
   "id": "eaccd2cc",
   "metadata": {},
   "source": [
    "**TfidfVectorizer** - TF-IDF score represents the relative importance of a term in the document and the entire corpus. TF-IDF score is composed by two terms: the first computes the normalized Term Frequency (TF), the second term is the Inverse Document Frequency (IDF), computed as the logarithm of the number of the documents in the corpus divided by the number of documents where the specific term appears."
   ]
  },
  {
   "cell_type": "markdown",
   "id": "912ece40",
   "metadata": {},
   "source": [
    "- tf(t) = No. of times term ‘t’ occurs in a document\n",
    "- idf(t) = log e [ (1+n) / ( 1 + df(t) ) ] + 1 (default i:e smooth_idf = True)\n",
    "- Reference: https://www.analyticsvidhya.com/blog/2021/11/how-sklearns-tfidfvectorizer-calculates-tf-idf-values/"
   ]
  },
  {
   "cell_type": "code",
   "execution_count": 26,
   "id": "340864ff",
   "metadata": {},
   "outputs": [
    {
     "name": "stdout",
     "output_type": "stream",
     "text": [
      "\n",
      "Using tfidf\n",
      "      apple    banana    orange\n",
      "0  0.643744  0.000000  0.765241\n",
      "1  0.707107  0.707107  0.000000\n",
      "2  0.447214  0.894427  0.000000\n",
      "3  0.000000  0.859622  0.510931\n",
      "4  0.233043  0.932173  0.277026\n"
     ]
    }
   ],
   "source": [
    "print(\"\\nUsing tfidf\")\n",
    "tfidf_vec = TfidfVectorizer()\n",
    "tfidf = tfidf_vec.fit_transform(corpus)\n",
    "print(pd.DataFrame(tfidf.A, columns=tfidf_vec.get_feature_names()).to_string())"
   ]
  },
  {
   "cell_type": "markdown",
   "id": "4c092744",
   "metadata": {},
   "source": [
    "### Dataset:\n",
    "- https://www.kaggle.com/snap/amazon-fine-food-reviews?select=Reviews.csv"
   ]
  },
  {
   "cell_type": "code",
   "execution_count": 27,
   "id": "87ad3bd6",
   "metadata": {},
   "outputs": [],
   "source": [
    "df = pd.read_csv('Reviews.csv')"
   ]
  },
  {
   "cell_type": "code",
   "execution_count": 30,
   "id": "5d9f2c92",
   "metadata": {},
   "outputs": [
    {
     "data": {
      "text/html": [
       "<div>\n",
       "<style scoped>\n",
       "    .dataframe tbody tr th:only-of-type {\n",
       "        vertical-align: middle;\n",
       "    }\n",
       "\n",
       "    .dataframe tbody tr th {\n",
       "        vertical-align: top;\n",
       "    }\n",
       "\n",
       "    .dataframe thead th {\n",
       "        text-align: right;\n",
       "    }\n",
       "</style>\n",
       "<table border=\"1\" class=\"dataframe\">\n",
       "  <thead>\n",
       "    <tr style=\"text-align: right;\">\n",
       "      <th></th>\n",
       "      <th>Id</th>\n",
       "      <th>ProductId</th>\n",
       "      <th>UserId</th>\n",
       "      <th>ProfileName</th>\n",
       "      <th>HelpfulnessNumerator</th>\n",
       "      <th>HelpfulnessDenominator</th>\n",
       "      <th>Score</th>\n",
       "      <th>Time</th>\n",
       "      <th>Summary</th>\n",
       "      <th>Text</th>\n",
       "    </tr>\n",
       "  </thead>\n",
       "  <tbody>\n",
       "    <tr>\n",
       "      <th>0</th>\n",
       "      <td>1</td>\n",
       "      <td>B001E4KFG0</td>\n",
       "      <td>A3SGXH7AUHU8GW</td>\n",
       "      <td>delmartian</td>\n",
       "      <td>1</td>\n",
       "      <td>1</td>\n",
       "      <td>5</td>\n",
       "      <td>1303862400</td>\n",
       "      <td>Good Quality Dog Food</td>\n",
       "      <td>I have bought several of the Vitality canned d...</td>\n",
       "    </tr>\n",
       "    <tr>\n",
       "      <th>1</th>\n",
       "      <td>2</td>\n",
       "      <td>B00813GRG4</td>\n",
       "      <td>A1D87F6ZCVE5NK</td>\n",
       "      <td>dll pa</td>\n",
       "      <td>0</td>\n",
       "      <td>0</td>\n",
       "      <td>1</td>\n",
       "      <td>1346976000</td>\n",
       "      <td>Not as Advertised</td>\n",
       "      <td>Product arrived labeled as Jumbo Salted Peanut...</td>\n",
       "    </tr>\n",
       "    <tr>\n",
       "      <th>2</th>\n",
       "      <td>3</td>\n",
       "      <td>B000LQOCH0</td>\n",
       "      <td>ABXLMWJIXXAIN</td>\n",
       "      <td>Natalia Corres \"Natalia Corres\"</td>\n",
       "      <td>1</td>\n",
       "      <td>1</td>\n",
       "      <td>4</td>\n",
       "      <td>1219017600</td>\n",
       "      <td>\"Delight\" says it all</td>\n",
       "      <td>This is a confection that has been around a fe...</td>\n",
       "    </tr>\n",
       "    <tr>\n",
       "      <th>3</th>\n",
       "      <td>4</td>\n",
       "      <td>B000UA0QIQ</td>\n",
       "      <td>A395BORC6FGVXV</td>\n",
       "      <td>Karl</td>\n",
       "      <td>3</td>\n",
       "      <td>3</td>\n",
       "      <td>2</td>\n",
       "      <td>1307923200</td>\n",
       "      <td>Cough Medicine</td>\n",
       "      <td>If you are looking for the secret ingredient i...</td>\n",
       "    </tr>\n",
       "    <tr>\n",
       "      <th>4</th>\n",
       "      <td>5</td>\n",
       "      <td>B006K2ZZ7K</td>\n",
       "      <td>A1UQRSCLF8GW1T</td>\n",
       "      <td>Michael D. Bigham \"M. Wassir\"</td>\n",
       "      <td>0</td>\n",
       "      <td>0</td>\n",
       "      <td>5</td>\n",
       "      <td>1350777600</td>\n",
       "      <td>Great taffy</td>\n",
       "      <td>Great taffy at a great price.  There was a wid...</td>\n",
       "    </tr>\n",
       "  </tbody>\n",
       "</table>\n",
       "</div>"
      ],
      "text/plain": [
       "   Id   ProductId          UserId                      ProfileName  \\\n",
       "0   1  B001E4KFG0  A3SGXH7AUHU8GW                       delmartian   \n",
       "1   2  B00813GRG4  A1D87F6ZCVE5NK                           dll pa   \n",
       "2   3  B000LQOCH0   ABXLMWJIXXAIN  Natalia Corres \"Natalia Corres\"   \n",
       "3   4  B000UA0QIQ  A395BORC6FGVXV                             Karl   \n",
       "4   5  B006K2ZZ7K  A1UQRSCLF8GW1T    Michael D. Bigham \"M. Wassir\"   \n",
       "\n",
       "   HelpfulnessNumerator  HelpfulnessDenominator  Score        Time  \\\n",
       "0                     1                       1      5  1303862400   \n",
       "1                     0                       0      1  1346976000   \n",
       "2                     1                       1      4  1219017600   \n",
       "3                     3                       3      2  1307923200   \n",
       "4                     0                       0      5  1350777600   \n",
       "\n",
       "                 Summary                                               Text  \n",
       "0  Good Quality Dog Food  I have bought several of the Vitality canned d...  \n",
       "1      Not as Advertised  Product arrived labeled as Jumbo Salted Peanut...  \n",
       "2  \"Delight\" says it all  This is a confection that has been around a fe...  \n",
       "3         Cough Medicine  If you are looking for the secret ingredient i...  \n",
       "4            Great taffy  Great taffy at a great price.  There was a wid...  "
      ]
     },
     "execution_count": 30,
     "metadata": {},
     "output_type": "execute_result"
    }
   ],
   "source": [
    "df.head(5)"
   ]
  },
  {
   "cell_type": "code",
   "execution_count": 31,
   "id": "7eef6a37",
   "metadata": {},
   "outputs": [
    {
     "data": {
      "text/plain": [
       "(568454, 10)"
      ]
     },
     "execution_count": 31,
     "metadata": {},
     "output_type": "execute_result"
    }
   ],
   "source": [
    "df.shape"
   ]
  },
  {
   "cell_type": "markdown",
   "id": "4bcbbf5d",
   "metadata": {},
   "source": [
    "- We would like to get an idea of the number of records that are 3 star and lower as well as 3 star and higher."
   ]
  },
  {
   "cell_type": "code",
   "execution_count": 32,
   "id": "0ef08947",
   "metadata": {},
   "outputs": [
    {
     "name": "stdout",
     "output_type": "stream",
     "text": [
      "(443777, 10) (82037, 10)\n"
     ]
    }
   ],
   "source": [
    "pos = df[df['Score']>3]\n",
    "neg = df[df['Score']<3]\n",
    "print(pos.shape, neg.shape)"
   ]
  },
  {
   "cell_type": "code",
   "execution_count": 33,
   "id": "11790202",
   "metadata": {},
   "outputs": [
    {
     "name": "stdout",
     "output_type": "stream",
     "text": [
      "(82037, 10) (82037, 10)\n"
     ]
    }
   ],
   "source": [
    "pos = pos.head(neg.shape[0])\n",
    "print(pos.shape, neg.shape)\n",
    "df = pd.concat([pos,neg])"
   ]
  },
  {
   "cell_type": "code",
   "execution_count": 34,
   "id": "fe0cb075",
   "metadata": {},
   "outputs": [
    {
     "data": {
      "text/html": [
       "<div>\n",
       "<style scoped>\n",
       "    .dataframe tbody tr th:only-of-type {\n",
       "        vertical-align: middle;\n",
       "    }\n",
       "\n",
       "    .dataframe tbody tr th {\n",
       "        vertical-align: top;\n",
       "    }\n",
       "\n",
       "    .dataframe thead th {\n",
       "        text-align: right;\n",
       "    }\n",
       "</style>\n",
       "<table border=\"1\" class=\"dataframe\">\n",
       "  <thead>\n",
       "    <tr style=\"text-align: right;\">\n",
       "      <th></th>\n",
       "      <th>Id</th>\n",
       "      <th>ProductId</th>\n",
       "      <th>UserId</th>\n",
       "      <th>ProfileName</th>\n",
       "      <th>HelpfulnessNumerator</th>\n",
       "      <th>HelpfulnessDenominator</th>\n",
       "      <th>Score</th>\n",
       "      <th>Time</th>\n",
       "      <th>Summary</th>\n",
       "      <th>Text</th>\n",
       "    </tr>\n",
       "  </thead>\n",
       "  <tbody>\n",
       "    <tr>\n",
       "      <th>34524</th>\n",
       "      <td>34525</td>\n",
       "      <td>B008FHUDW0</td>\n",
       "      <td>A1S7ELUTF3JFE8</td>\n",
       "      <td>Duane Charles Days</td>\n",
       "      <td>0</td>\n",
       "      <td>0</td>\n",
       "      <td>5</td>\n",
       "      <td>1346803200</td>\n",
       "      <td>A great buy.</td>\n",
       "      <td>Amazon has put together the perfect coffee at ...</td>\n",
       "    </tr>\n",
       "    <tr>\n",
       "      <th>68328</th>\n",
       "      <td>68329</td>\n",
       "      <td>B003EM7J9Q</td>\n",
       "      <td>A1VAY8VPLQOUWE</td>\n",
       "      <td>Kat</td>\n",
       "      <td>0</td>\n",
       "      <td>1</td>\n",
       "      <td>2</td>\n",
       "      <td>1339027200</td>\n",
       "      <td>Tasted Like Ammonia!</td>\n",
       "      <td>So I made one bag of these pork rinds &amp; it cam...</td>\n",
       "    </tr>\n",
       "    <tr>\n",
       "      <th>519450</th>\n",
       "      <td>519451</td>\n",
       "      <td>B006N3I1HM</td>\n",
       "      <td>A2TJG4N8LNJW23</td>\n",
       "      <td>Blythe Dresser</td>\n",
       "      <td>0</td>\n",
       "      <td>0</td>\n",
       "      <td>1</td>\n",
       "      <td>1327104000</td>\n",
       "      <td>Am I drinking the same coffee as the 5-star re...</td>\n",
       "      <td>I don't know how what I tried could be conside...</td>\n",
       "    </tr>\n",
       "    <tr>\n",
       "      <th>43745</th>\n",
       "      <td>43746</td>\n",
       "      <td>B001EQ5JLE</td>\n",
       "      <td>A2PPBJWKKABASA</td>\n",
       "      <td>Slidge</td>\n",
       "      <td>0</td>\n",
       "      <td>0</td>\n",
       "      <td>5</td>\n",
       "      <td>1320364800</td>\n",
       "      <td>PG vs Lipton</td>\n",
       "      <td>I have to be brutally Honest here. I have been...</td>\n",
       "    </tr>\n",
       "    <tr>\n",
       "      <th>78837</th>\n",
       "      <td>78838</td>\n",
       "      <td>B0013JJZWG</td>\n",
       "      <td>AGBJC7AW2F1XV</td>\n",
       "      <td>Priscilla Schultz</td>\n",
       "      <td>3</td>\n",
       "      <td>3</td>\n",
       "      <td>5</td>\n",
       "      <td>1344124800</td>\n",
       "      <td>just what I was hoping for</td>\n",
       "      <td>I had never used this product before and had r...</td>\n",
       "    </tr>\n",
       "  </tbody>\n",
       "</table>\n",
       "</div>"
      ],
      "text/plain": [
       "            Id   ProductId          UserId         ProfileName  \\\n",
       "34524    34525  B008FHUDW0  A1S7ELUTF3JFE8  Duane Charles Days   \n",
       "68328    68329  B003EM7J9Q  A1VAY8VPLQOUWE                 Kat   \n",
       "519450  519451  B006N3I1HM  A2TJG4N8LNJW23      Blythe Dresser   \n",
       "43745    43746  B001EQ5JLE  A2PPBJWKKABASA              Slidge   \n",
       "78837    78838  B0013JJZWG   AGBJC7AW2F1XV   Priscilla Schultz   \n",
       "\n",
       "        HelpfulnessNumerator  HelpfulnessDenominator  Score        Time  \\\n",
       "34524                      0                       0      5  1346803200   \n",
       "68328                      0                       1      2  1339027200   \n",
       "519450                     0                       0      1  1327104000   \n",
       "43745                      0                       0      5  1320364800   \n",
       "78837                      3                       3      5  1344124800   \n",
       "\n",
       "                                                  Summary  \\\n",
       "34524                                        A great buy.   \n",
       "68328                                Tasted Like Ammonia!   \n",
       "519450  Am I drinking the same coffee as the 5-star re...   \n",
       "43745                                        PG vs Lipton   \n",
       "78837                          just what I was hoping for   \n",
       "\n",
       "                                                     Text  \n",
       "34524   Amazon has put together the perfect coffee at ...  \n",
       "68328   So I made one bag of these pork rinds & it cam...  \n",
       "519450  I don't know how what I tried could be conside...  \n",
       "43745   I have to be brutally Honest here. I have been...  \n",
       "78837   I had never used this product before and had r...  "
      ]
     },
     "execution_count": 34,
     "metadata": {},
     "output_type": "execute_result"
    }
   ],
   "source": [
    "df = shuffle(df)\n",
    "df.head()"
   ]
  },
  {
   "cell_type": "markdown",
   "id": "9aee455a",
   "metadata": {},
   "source": [
    "### Preprocessing\n",
    "Remove all nutral scores and seperate the remaning into positive = 1 and negative = 0 Preprocessing ususally involves:\n",
    "\n",
    "- Removing additional white spaces\n",
    "- Replacing emoji's with a word representation for example :) ==> smile\n",
    "- Removing links from the corpus\n",
    "- Removing punctuation\n",
    "- Removing HTML tags\n",
    "- Remove duplicate reviews\n",
    "- Here are a good links on how to process text, clean text\n",
    "\n",
    "**For this exercise we will only tokenize reviews, that is change \"This is a review\" to ['this', 'is', 'a', 'review'].**\n",
    "\n",
    "After the text is 'clean' we will use sklearn."
   ]
  },
  {
   "cell_type": "code",
   "execution_count": 35,
   "id": "4b1998df",
   "metadata": {},
   "outputs": [],
   "source": [
    "df = df[df['Score'] !=3]\n",
    "X = df['Text']\n",
    "\n",
    "y_map = {1:0, 2:0, 4:1, 5:1}\n",
    "y = df['Score'].map(y_map)"
   ]
  },
  {
   "cell_type": "code",
   "execution_count": 36,
   "id": "704be2d1",
   "metadata": {},
   "outputs": [
    {
     "data": {
      "text/plain": [
       "34524     Amazon has put together the perfect coffee at ...\n",
       "68328     So I made one bag of these pork rinds & it cam...\n",
       "519450    I don't know how what I tried could be conside...\n",
       "43745     I have to be brutally Honest here. I have been...\n",
       "78837     I had never used this product before and had r...\n",
       "Name: Text, dtype: object"
      ]
     },
     "execution_count": 36,
     "metadata": {},
     "output_type": "execute_result"
    }
   ],
   "source": [
    "X.head(5)"
   ]
  },
  {
   "cell_type": "code",
   "execution_count": 37,
   "id": "e56eb880",
   "metadata": {},
   "outputs": [
    {
     "data": {
      "text/plain": [
       "34524     1\n",
       "68328     0\n",
       "519450    0\n",
       "43745     1\n",
       "78837     1\n",
       "Name: Score, dtype: int64"
      ]
     },
     "execution_count": 37,
     "metadata": {},
     "output_type": "execute_result"
    }
   ],
   "source": [
    "y.head(5)"
   ]
  },
  {
   "cell_type": "markdown",
   "id": "db91825c",
   "metadata": {},
   "source": [
    "### Classification"
   ]
  },
  {
   "cell_type": "markdown",
   "id": "8b8df505",
   "metadata": {},
   "source": [
    "Once the text is processed the next step is to do the actual classification. For this exercise we will be using a Logistic Regression Classifier. However there are many other popular classifiers that may perform better:\n",
    "\n",
    "- Support Vector Machine and its variants\n",
    "- Naive Bayes and its variants\n",
    "- Random Forests and its variants\n",
    "\n",
    "Let's create a function that takes in the training set X , test set y, the model being used model and the classification algorithm clf_model as well as a variable that will show the top coefficients if true coef_show"
   ]
  },
  {
   "cell_type": "code",
   "execution_count": 38,
   "id": "ada46c09",
   "metadata": {},
   "outputs": [],
   "source": [
    "def text_fit(X, y, model, clf_model, coef_show=1):\n",
    "    X_c = model.fit_transform(X)\n",
    "    print('# features: {}'.format(X_c.shape[1]))\n",
    "    X_train, X_test, y_train, y_test = train_test_split(X_c, y, random_state=0)\n",
    "    print('# train records: {}'.format(X_train.shape[0]))\n",
    "    print('# test records: {}'.format(X_test.shape[0]))\n",
    "    clf = clf_model.fit(X_train, y_train)\n",
    "    y_pred = clf.predict(X_test)\n",
    "    recall = recall_score(y_test,y_pred)\n",
    "    print ('Model Recall: {}'.format(recall))\n",
    "    if coef_show == 1: \n",
    "        w = model.get_feature_names()\n",
    "        coef = clf.coef_.tolist()[0]\n",
    "        coeff_df = pd.DataFrame({'Word' : w, 'Coefficient' : coef})\n",
    "        coeff_df = coeff_df.sort_values(['Coefficient', 'Word'], ascending=[0, 1])\n",
    "        print('')\n",
    "        print('-Top 20 positive-')\n",
    "        print(coeff_df.head(20).to_string(index=False))\n",
    "        print('')\n",
    "        print('-Top 20 negative-')        \n",
    "        print(coeff_df.tail(20).to_string(index=False))"
   ]
  },
  {
   "cell_type": "markdown",
   "id": "d77d836c",
   "metadata": {},
   "source": [
    "### Classification Experiments\n",
    "\n",
    "- Logistic regression model on word count\n",
    "- Logistic regression model on TFIDF\n",
    "- Logistic regression model on TFIDF + ngram\n",
    "\n",
    "NGram Defn: N-grams of texts are extensively used in text mining and natural language processing tasks. They are basically a set of co-occuring words within a given window and when computing the n-grams you typically move one word forward (although you can move X words forward in more advanced scenarios). Taken from [here](http://text-analytics101.rxnlp.com/2014/11/what-are-n-grams.html)."
   ]
  },
  {
   "cell_type": "code",
   "execution_count": 39,
   "id": "9ec79b6b",
   "metadata": {},
   "outputs": [
    {
     "name": "stdout",
     "output_type": "stream",
     "text": [
      "# features: 68923\n",
      "# train records: 123055\n",
      "# test records: 41019\n",
      "Model Recall: 0.9069948438564063\n",
      "\n",
      "-Top 20 positive-\n",
      "        Word  Coefficient\n",
      "  pleasantly     3.050263\n",
      "       penny     2.762445\n",
      "    downside     2.759462\n",
      "    drawback     2.740516\n",
      "      hooked     2.721683\n",
      "   addicting     2.548465\n",
      "      resist     2.474370\n",
      "    soothing     2.398312\n",
      "     welcome     2.367762\n",
      "     worries     2.344691\n",
      "prescription     2.300742\n",
      "       holds     2.281033\n",
      "         met     2.208633\n",
      "   skeptical     2.180317\n",
      "   delighted     2.168944\n",
      "    hesitant     2.167149\n",
      "         fav     2.144379\n",
      "    tastiest     2.140525\n",
      "      intend     2.093224\n",
      "    terrific     2.050142\n",
      "\n",
      "-Top 20 negative-\n",
      "         Word  Coefficient\n",
      "   overpowers    -2.452483\n",
      "    advertise    -2.463766\n",
      "      assumed    -2.464807\n",
      "     disaster    -2.474081\n",
      "     terrible    -2.481509\n",
      "      expired    -2.489185\n",
      "    deceptive    -2.540339\n",
      "      sounded    -2.549353\n",
      "     inferior    -2.562908\n",
      "   returnable    -2.588292\n",
      "disappointing    -2.598654\n",
      "       bummer    -2.635165\n",
      "        awful    -2.668202\n",
      "       ruined    -2.773542\n",
      " unacceptable    -2.923518\n",
      "     canceled    -3.006557\n",
      "        worst    -3.198139\n",
      "  undrinkable    -3.237000\n",
      "  disapointed    -3.281962\n",
      "    cancelled    -3.632344\n"
     ]
    },
    {
     "name": "stderr",
     "output_type": "stream",
     "text": [
      "/opt/anaconda3/lib/python3.9/site-packages/sklearn/linear_model/_logistic.py:763: ConvergenceWarning: lbfgs failed to converge (status=1):\n",
      "STOP: TOTAL NO. of ITERATIONS REACHED LIMIT.\n",
      "\n",
      "Increase the number of iterations (max_iter) or scale the data as shown in:\n",
      "    https://scikit-learn.org/stable/modules/preprocessing.html\n",
      "Please also refer to the documentation for alternative solver options:\n",
      "    https://scikit-learn.org/stable/modules/linear_model.html#logistic-regression\n",
      "  n_iter_i = _check_optimize_result(\n"
     ]
    }
   ],
   "source": [
    "c = CountVectorizer(stop_words = 'english')\n",
    "text_fit(X, y, c, LogisticRegression()"
   ]
  },
  {
   "cell_type": "code",
   "execution_count": 40,
   "id": "8cd36e68",
   "metadata": {},
   "outputs": [
    {
     "name": "stdout",
     "output_type": "stream",
     "text": [
      "# features: 68923\n",
      "# train records: 123055\n",
      "# test records: 41019\n",
      "Model Recall: 0.901692771670396\n",
      "\n",
      "-Top 20 positive-\n",
      "     Word  Coefficient\n",
      "    great    11.230130\n",
      "delicious    10.146946\n",
      "     best     9.370887\n",
      "  perfect     9.233173\n",
      "excellent     8.124602\n",
      "    loves     7.856340\n",
      "   highly     7.218414\n",
      "wonderful     6.982520\n",
      "     love     6.973765\n",
      "  amazing     6.570629\n",
      "  awesome     6.528989\n",
      "     good     6.397672\n",
      "     nice     6.099353\n",
      "   hooked     5.984700\n",
      " favorite     5.890149\n",
      "    yummy     5.763691\n",
      "  pleased     5.762933\n",
      "   smooth     5.273810\n",
      "     glad     5.228730\n",
      "     easy     5.215504\n",
      "\n",
      "-Top 20 negative-\n",
      "          Word  Coefficient\n",
      "         money    -5.377284\n",
      "      thinking    -5.586734\n",
      "         sorry    -5.613868\n",
      "        hoping    -5.656859\n",
      "         waste    -5.700791\n",
      "    disgusting    -6.103029\n",
      "         stale    -6.127895\n",
      "        return    -6.170163\n",
      "       thought    -6.173334\n",
      "         threw    -6.348600\n",
      "         bland    -6.405121\n",
      "disappointment    -6.780750\n",
      "          weak    -6.785139\n",
      " unfortunately    -7.761013\n",
      "      horrible    -8.024577\n",
      "      terrible    -8.211757\n",
      " disappointing    -8.290035\n",
      "         awful    -8.356062\n",
      "  disappointed    -9.354199\n",
      "         worst    -9.858543\n"
     ]
    },
    {
     "name": "stderr",
     "output_type": "stream",
     "text": [
      "/opt/anaconda3/lib/python3.9/site-packages/sklearn/linear_model/_logistic.py:763: ConvergenceWarning: lbfgs failed to converge (status=1):\n",
      "STOP: TOTAL NO. of ITERATIONS REACHED LIMIT.\n",
      "\n",
      "Increase the number of iterations (max_iter) or scale the data as shown in:\n",
      "    https://scikit-learn.org/stable/modules/preprocessing.html\n",
      "Please also refer to the documentation for alternative solver options:\n",
      "    https://scikit-learn.org/stable/modules/linear_model.html#logistic-regression\n",
      "  n_iter_i = _check_optimize_result(\n"
     ]
    }
   ],
   "source": [
    "tfidf = TfidfVectorizer(stop_words = 'english')\n",
    "text_fit(X, y, tfidf, LogisticRegression())"
   ]
  },
  {
   "cell_type": "code",
   "execution_count": 193,
   "id": "6a7162c0",
   "metadata": {},
   "outputs": [
    {
     "name": "stdout",
     "output_type": "stream",
     "text": [
      "# features: 1932701\n",
      "# train records: 123055\n",
      "# test records: 41019\n",
      "Model Recall: 0.9129779161397023\n",
      "\n",
      "-Top 20 positive-\n",
      "     Word  Coefficient\n",
      "    great    17.215651\n",
      "delicious    14.005601\n",
      "     best    13.844368\n",
      "  perfect    12.393208\n",
      "    loves    11.129136\n",
      "     love    10.837305\n",
      "excellent    10.396867\n",
      "wonderful     9.468439\n",
      "     good     9.323358\n",
      "     nice     9.189185\n",
      " favorite     8.829766\n",
      "     easy     7.710652\n",
      "  amazing     7.678862\n",
      "  awesome     7.546582\n",
      "    happy     7.189883\n",
      "    tasty     7.064533\n",
      "   highly     6.931065\n",
      "    yummy     6.853734\n",
      "  pleased     6.804395\n",
      "   smooth     6.590717\n",
      "\n",
      "-Top 20 negative-\n",
      "          Word  Coefficient\n",
      "    disgusting    -6.482658\n",
      "        hoping    -6.639022\n",
      "         waste    -6.685375\n",
      "         threw    -6.920282\n",
      "disappointment    -7.030280\n",
      "         maybe    -7.099295\n",
      "         bland    -7.471922\n",
      "        return    -7.626255\n",
      "         money    -7.717590\n",
      "           bad    -7.744674\n",
      "         stale    -8.099472\n",
      "          weak    -8.355254\n",
      "       thought    -8.813813\n",
      "      horrible    -9.067469\n",
      " disappointing    -9.088278\n",
      " unfortunately    -9.205080\n",
      "         awful    -9.511350\n",
      "      terrible    -9.614737\n",
      "         worst   -10.804705\n",
      "  disappointed   -13.422399\n"
     ]
    }
   ],
   "source": [
    "tfidf_n = TfidfVectorizer(ngram_range=(1,2), stop_words = 'english')\n",
    "text_fit(X, y, tfidf_n, LogisticRegression())"
   ]
  },
  {
   "cell_type": "markdown",
   "id": "f11d3335",
   "metadata": {},
   "source": [
    "There are quite a few features in our bag of words, more than 100 thousand! We will cut it down a bit to help our runtime in the following steps using sklearn's SelectPercentile function. SelectPercentile selects the top features of a dataset which allows us to discard features which are not as important."
   ]
  },
  {
   "cell_type": "code",
   "execution_count": 231,
   "id": "f72415ae",
   "metadata": {},
   "outputs": [],
   "source": [
    "def text_fit_v2(X, y, model, clf_model, select_percentile_value, coef_show=1):\n",
    "    X_c = model.fit_transform(X)\n",
    "    print('# features before applying select percentile: {}'.format(X_c.shape[1]))\n",
    "    select_percentile = SelectPercentile(f_regression, select_percentile_value)\n",
    "    X_transformed = select_percentile.fit_transform(X_c, y)\n",
    "    print('# features after applying select percentile: {}'.format(X_transformed.shape[1]))\n",
    "    X_train, X_test, y_train, y_test = train_test_split(X_transformed, y, random_state=0)\n",
    "    print('# train records: {}'.format(X_train.shape[0]))\n",
    "    print('# test records: {}'.format(X_test.shape[0]))\n",
    "    clf = clf_model.fit(X_train, y_train)\n",
    "    y_pred = clf.predict(X_test)\n",
    "    recall = recall_score(y_test,y_pred)\n",
    "    print ('Model Recall: {}'.format(recall))\n",
    "    if coef_show == 1:\n",
    "        idx = np.arange(0, X.shape[1])  #create an index array\n",
    "        features_to_keep = idx[sp.get_support() == True]\n",
    "        tf_vals_cols = select_percentile.get_support()\n",
    "        cols = np.array(list(model.vocabulary_.keys()))\n",
    "        w = cols[tf_vals_cols]\n",
    "        coef = clf.coef_.tolist()[0]\n",
    "        coeff_df = pd.DataFrame({'Word' : w, 'Coefficient' : coef})\n",
    "        coeff_df = coeff_df.sort_values(['Coefficient', 'Word'], ascending=[0, 1])\n",
    "        print('')\n",
    "        print('-Top 20 positive-')\n",
    "        print(coeff_df.head(20).to_string(index=False))\n",
    "        print('')\n",
    "        print('-Top 20 negative-')        \n",
    "        print(coeff_df.tail(20).to_string(index=False))"
   ]
  },
  {
   "cell_type": "code",
   "execution_count": 232,
   "id": "52c97ae7",
   "metadata": {},
   "outputs": [
    {
     "name": "stdout",
     "output_type": "stream",
     "text": [
      "# features before applying select percentile: 1932701\n"
     ]
    },
    {
     "name": "stderr",
     "output_type": "stream",
     "text": [
      "/opt/anaconda3/lib/python3.9/site-packages/sklearn/utils/validation.py:70: FutureWarning: Pass percentile=50 as keyword args. From version 1.0 (renaming of 0.25) passing these as positional arguments will result in an error\n",
      "  warnings.warn(f\"Pass {args_msg} as keyword args. From version \"\n"
     ]
    },
    {
     "name": "stdout",
     "output_type": "stream",
     "text": [
      "# features after applying select percentile: 966350\n",
      "# train records: 123055\n",
      "# test records: 41019\n",
      "Model Recall: 0.914874987839284\n"
     ]
    }
   ],
   "source": [
    "tfidf_n = TfidfVectorizer(ngram_range=(1, 2), stop_words = 'english')\n",
    "text_fit_v2(X, y, tfidf_n, LogisticRegression(), 50, 0)"
   ]
  },
  {
   "cell_type": "markdown",
   "id": "85348462",
   "metadata": {},
   "source": [
    "### Topic Modelling\n",
    "\n",
    "Topic modeling is an unsupervised machine learning technique that’s capable of scanning a set of documents, detecting word and phrase patterns within them, and automatically clustering word groups and similar expressions that best characterize a set of documents.\n",
    "\n",
    "Non Negative Matrix Factorization (NMF), Latent Dirichlet Allocation (LDA) and Single Value Decomposition (SVD) algorithms will be used to find topics in a document collection. The output of the derived topics involved assigning a numeric label to the topic and printing out the top words in a topic.\n",
    "\n",
    "The algorithms are not able to automatically determine the number of topics and this value must be set when running the algorithm. Comprehensive documentation on available parameters is available for both [NMF](https://scikit-learn.org/stable/modules/generated/sklearn.decomposition.NMF.html), [LDA](https://scikit-learn.org/stable/modules/generated/sklearn.decomposition.LatentDirichletAllocation.html#sklearn.decomposition.LatentDirichletAllocation) and [SVD](https://scikit-learn.org/stable/modules/generated/sklearn.decomposition.TruncatedSVD.html)."
   ]
  },
  {
   "cell_type": "code",
   "execution_count": 42,
   "id": "4920e75b",
   "metadata": {},
   "outputs": [],
   "source": [
    "def display_topics(H, W, feature_names, documents, no_top_words, no_top_documents):\n",
    "    for topic_idx, topic in enumerate(H):\n",
    "        print(\"Topic %d:\" % (topic_idx))\n",
    "        print(\" \".join([feature_names[i]\n",
    "                        for i in topic.argsort()[:-no_top_words - 1:-1]]))\n",
    "        print(\"\\n\")\n",
    "        top_doc_indices = np.argsort( W[:,topic_idx] )[::-1][0:no_top_documents]\n",
    "        for doc_index in top_doc_indices:\n",
    "            print(documents[doc_index])\n",
    "            print(\"\\n\")"
   ]
  },
  {
   "cell_type": "code",
   "execution_count": 44,
   "id": "9424f0b9",
   "metadata": {},
   "outputs": [
    {
     "name": "stdout",
     "output_type": "stream",
     "text": [
      "10000\n"
     ]
    }
   ],
   "source": [
    "documents = list(X)[0:10000]\n",
    "print(len(documents))"
   ]
  },
  {
   "cell_type": "code",
   "execution_count": 45,
   "id": "7640a9d9",
   "metadata": {},
   "outputs": [],
   "source": [
    "# NMF is able to use tf-idf\n",
    "tfidf_vectorizer = TfidfVectorizer(max_df=0.95, min_df=2, stop_words='english')\n",
    "tfidf = tfidf_vectorizer.fit_transform(documents)\n",
    "tfidf_feature_names = tfidf_vectorizer.get_feature_names()"
   ]
  },
  {
   "cell_type": "code",
   "execution_count": 46,
   "id": "33b6c3d9",
   "metadata": {},
   "outputs": [],
   "source": [
    "# LDA can only use raw term counts for LDA because it is a probabilistic graphical model\n",
    "tf_vectorizer = CountVectorizer(max_df=0.95, min_df=2, stop_words='english')\n",
    "tf = tf_vectorizer.fit_transform(documents)\n",
    "tf_feature_names = tf_vectorizer.get_feature_names()"
   ]
  },
  {
   "cell_type": "code",
   "execution_count": 47,
   "id": "6951c478",
   "metadata": {},
   "outputs": [],
   "source": [
    "no_topics = 5"
   ]
  },
  {
   "cell_type": "code",
   "execution_count": 48,
   "id": "83834215",
   "metadata": {},
   "outputs": [],
   "source": [
    "# Run NMF\n",
    "nmf_model = NMF(n_components=no_topics, random_state=1, alpha=.1, l1_ratio=.5, init='nndsvd').fit(tfidf)\n",
    "nmf_W = nmf_model.transform(tfidf)\n",
    "nmf_H = nmf_model.components_"
   ]
  },
  {
   "cell_type": "code",
   "execution_count": 49,
   "id": "15531447",
   "metadata": {},
   "outputs": [
    {
     "name": "stdout",
     "output_type": "stream",
     "text": [
      "NMF Topics \n",
      "\n",
      "\n",
      "Topic 0:\n",
      "like taste good product flavor just great love really chocolate\n",
      "\n",
      "\n",
      "I really, really wanted to like this product as I think it's a great idea, but I just didn't like the taste. I love sweet tea and was really looking forward to loving this product, so was very disappointed. I tried it in a bottle of water, then twice in a glass with more, then less water. Tried adding more of the liquid to the water, but could never get it to taste like sweet tea. It tasted like chemicals and was undrinkable. Couldn't add it by the drop, as it was hard to squeeze the bottle, then it squirted out and you couldn't really control the amount. Had someone else try it as well, and they had the same problem. They also didn't like the taste. Sorry that this doesn't work, as it's a great idea.\n",
      "\n",
      "\n",
      "After reading all the glowing reviews, I decided to order this for my son's lunch brown bag. I found it taste a little stale, just not the fresh taste like you know when you are eating a good chocolate chip cookie and you are so \"happy\". OK, that was not one of that moments in my life. I tried really hard to enjoy them because I paid for a higher price for this, but every time I ate this, I just like - wish I didn't order this. I was hoping my hubby would like them since he has a sweet tooth and he'll have to finish those for me. He didn't like it either. Now my son (2 and half yr old) - the only person I bought this cookie for, who also likes sweets like his father, sorry to report - he does not like it either. He took a bite and dumped the whole bag and said he doesn't want them any more. What a bummer!\n",
      "\n",
      "\n",
      "I admit that I don't like most breakfast cereals, they are usually too sweet, too much one flavor (like Cinnamon) or too \"healthy\" (i.e. no flavor). But this one, I do like!<br /><br />It has a great combination of flavors, the roasted nut and honey are just right. They stay crunchy in milk, but are not too hard to eat. They taste good as a dry snack as well. I didn't feel they needed any added sugar or anything other than milk.<br /><br />The one bad thing is that the box is smaller compared to other cereals, so the value vs. price isn't as good. But overall, I do like this cereal and have already bought another box.\n",
      "\n",
      "\n",
      "I bought this product because I thought it might make a good backpacking food and not because it is low in fat/calories. I really wanted to like this product but, I do not like the taste or the fact that there is added sugar. A lot of people seem to like the taste though so, I am not unhappy I gave it a try. I will keep it and try using it as a flavoring in cooking.\n",
      "\n",
      "\n",
      "Topic 1:\n",
      "br fat ingredients amazon review almonds 100 natural juice water\n",
      "\n",
      "\n",
      "[...]<br />Recall -- Firm Press Release<br /><br />FDA posts press releases and other notices of recalls and market withdrawals from the firms involved as a service to consumers, the media, and other interested parties. FDA does not endorse either the product or the company.<br />Creative Energy Foods, Inc. Recalls Crunch® thinkThin Nutrition Bars Due to Possible Health Risk Associated With Sunland Inc. Peanut Products<br /><br />Contact:<br />Consumer:<br />510-567-1200<br /><br />FOR IMMEDIATE RELEASE - October 12, 2012 - Creative Energy Foods, Inc. (CEF) is voluntarily recalling Crunch® thinkThin nutrition bars which may contain blanched roasted peanuts supplied by Sunland , Inc. to CEF. The decision was made as the result of the expanded recall of peanut butter, nut butters and peanut products by Sunland because of potential contamination with Salmonella.<br /><br />Salmonella bacteria can cause serious and sometimes fatal infections in young children, frail or elderly people, and others with weakened immune systems. Healthy persons infected with Salmonella often experience fever, diarrhea (which may be bloody), nausea, vomiting and abdominal cramps. Consumers with the above symptoms should consult their physician.<br /><br />While no illnesses associated with any of these products have been reported to date, as part of our commitment to the safety and quality of our products we have decided to issue a voluntary recall.<br /><br />Consumers who have any products covered by this recall should dispose of them.  Consumers who have any questions about the recalled products are urged to contact CEF Monday through Friday, 8:00AM - 4:30PM Pacific Time at 510-567-1200, extension #1.  Consumers with questions or concerns about their health should contact their doctor or health care provider.<br /><br />The Best-By-Dates for the recalled products are listed below and can be found on the back of the package, underneath the seal.<br /><br />These products were distributed at retail chain stores nation wide from March 2010 to October 12, 2012.<br /><br />The following products being recalled:<br /><br />BRAND<br /><br />FLAVOR<br /><br />SIZE<br /><br />UPC CODE<br /><br />BEST BY DATES<br /><br />Crunch® thinkThin<br /><br />Mixed Nuts<br /><br />40 grams<br /><br />7 53656 70840 9<br /><br />101812, 110912, 120112, 022813, 040413, 041913, 050913, 051513, 052313, 060113, 060813, 061313. 062713, 070913 AND expired lots prior to Best By 101012<br /><br />Crunch® thinkThin<br /><br />White Chocolate Dipped Mixed Nuts<br /><br />40 grams<br /><br />7 53656 70861 4<br /><br />030113 ,032513, 042013, 052213, 060113, 061513, 062213 AND expired lots prior to Best By 101012<br /><br />Crunch® thinkThin<br /><br />Chocolate Dipped Mixed Nuts<br /><br />40 grams<br /><br />7 53656 70843 0<br /><br />101812, 102612, 110812, 110912, 120312, 030713, 030813, 031613, 032513, 041213, 041313, 042113, 042513, 042813, 051213, 052313, 052413, 060713, 061413, 062613, 062813, 071813 AND expired lots prior to Best By 101012<br /><br />Crunch® thinkThin<br /><br />Caramel Chocolate Dipped Mixed Nuts<br /><br />40 grams<br /><br />7 53656 70879 9<br /><br />112812, 030813, 040513, 042113, 051013, 060113, 061513, 071313 AND expired lots prior to Best By 101012<br /><br />Crunch® thinkThin<br /><br />Cherry & Mixed Nuts<br /><br />40 grams<br /><br />7 53656 70915 4<br /><br />022313, 032513, 041913, 042513, 061113 AND expired lots prior to Best By 101012<br /><br />Crunch® thinkThin<br /><br />Blueberry & Mixed Nuts<br /><br />40 grams<br /><br />7 53656 70906 2<br /><br />111812, 022313, 022413, 032813, 040413, 042113, 051813, 051913, 060813, 062713, 062813, 071913 AND expired lots prior to Best By 101012<br /><br />Crunch® thinkThin<br /><br />Cranberry Apple & Mixed Nuts<br /><br />40 grams<br /><br />7 53656 70909 3<br /><br />030813, 041113, 052913, 062213 AND expired lots prior to Best By 101012<br /><br />###\n",
      "\n",
      "\n",
      "This is a good grocery for us.<br /><br />If you cook something,you can use it.<br /><br />It is smells so good.<br /><br />You should buy it.\n",
      "\n",
      "\n",
      "The Mint Milano cookies are wonderful. They have a light and crispy texture with a mild mint chocolate taste. The flavor reminds me a lot of the chocolate mint Girl Scout cookies although the texture of the 2 cookies are very different (the girl scout cookie is much denser).<br /><br />Unfortunately the cookies usually arrive with very few intact and several of mine were even broken into multiple pieces. They still taste pretty good though.<br /><br />Nutritional Facts copied from the actual package (July 2011):<br /><br />Serving size 2 cookies (25g/ 0.9oz)<br /><br />Servings per container about 8<br /><br />Calories per serving 130<br /><br />Calories from fat 70<br /><br />Total Fat 7g<br /><br />Saturated Fat 5g<br /><br />Trans Fat 0g<br /><br />Cholesterol less than 5 mg<br /><br />Sodium 65mg<br /><br />Total Carbohydrate 16g<br /><br />Dietary Fiber less than 1g<br /><br />Sugars 8g<br /><br />Protein 1g<br /><br />Vitamins A and C 0%<br /><br />Calcium 0%<br /><br />Iron 4%<br /><br />FYI, I purchased my cookies during 100 degree weather and except for some of the chocolate melting onto the inner wrapper the cookies were fine (I used 2 day shipping which might make a difference since the cookies weren't in the heat that long).<br /><br />At 15.88 for 4 bags of cookies the price per bag is 3.97 which is 48 cents more than the price printed on the cookie bag (3.49).\n",
      "\n",
      "\n",
      "I am a fan of granola bars and often have them at the house for a snack to add to my lunch or an after dinner treat.<br /><br />When I saw that Kellog's Special K granola bars was available on vine, I picked it immediately.<br /><br />They are a chocolatey peanut butter treat that is very enjoyable.<br /><br />I noticed these added points from the back of the box:<br />calories 110<br /><br />%of Daily Value<br />Total Fat  5%<br />Saturated Fat 2g  10%<br />Cholesterol 0%<br />Sodium 85mg 4%<br />Ttal<br />Carbohydrate 17g 6%<br />Dietary Fiber 16%<br /><br />I'm not sure what all of that means but I enjoy the product and it has excellent taste.\n",
      "\n",
      "\n",
      "Topic 2:\n",
      "tea green teas drink bags chai iced stash flavor black\n",
      "\n",
      "\n",
      "This tea can taste good with or without sugar. You can taste the quality of the tea, I have purchased this tea a few times. I love this tea!\n",
      "\n",
      "\n",
      "I drink two cups of this tea every day.  This is my favorite tea and I have been a tea drinker all of my life. A very smooth cup of tea!\n",
      "\n",
      "\n",
      "This is an excellent tasting tea.  The tea when set draws rapidly as compared to other teas and is strong in consistency.  Prior to tasting this tea, I always preferred Lipton tea bags but have switched to London Cuppa as it's not only refreshing but very tasty and encourages you to replenish your cup of tea.  My wife says she's now hooked on this tea.  I endorse this tea to all you tea lovers. My next move is to try this tea as an Iced tea as well.\n",
      "\n",
      "\n",
      "I drink tea frequently and obsessively. At a minimum I drink 3 cups of tea per day and I prefer loose leaf tea over tea bags. In the mornings I opt for tea bags for efficiency and time. My morning teas alternate between Green Tea, English Breakfast, Earl Grey and Black Tea. As such, I am always tasting and trying new teas, especially the green tea variety. When I saw this tea offered, I jumped at the chance to get Higgins. But, I was highly disappointed.<br /><br />First, the taste is rather bland and weak. There is barely any flavor. I had a cup of tea whilst taking to a friend and during our conversation I noticed that I had finished the tea but had no memory of its flavors or qualities. I had no idea what I had drunk! It was the equivalent of drinking water. The only thing that comes across is hot water and some lemongrass flavor (see below re lemongrass). None of the green tea leaves flavor comes out. I opened up a tea bag and noticed that the leaves mix is rather powdery (no wonder there is barely any taste).<br /><br />Several reviewers (and the description) have mentioned that this tea has a lemon grass taste. Lemon grass is not something I use a lot but, thankfully, I had some lemon grass in my pantry. I tried it and ...the reviewers are very right. This tea has some lemon grass undertones.<br /><br />If you are looking for an very affordable and good tasting tea (in tea bag form), try Stash or even Lipton Pyramid Tea Bags. Something other than this.<br /><br />Overall, this is a pass. Money is better spent at better tea brands.\n",
      "\n",
      "\n",
      "Topic 3:\n",
      "coffee cup cups strong roast bold weak bitter blend like\n",
      "\n",
      "\n",
      "Excellent coffee!  This coffee has the best flavor of any coffee I have ever tried!  I love it!\n",
      "\n",
      "\n",
      "I bought this coffee based on the good reviews that I read. Unfortunately I do not like the taste of the coffee. The coffee is very light and you get more of the hazelnut taste than the coffee. I prefer my coffee to taste a little bitter. Basically if you like coffee which is heavily flavored then this is for you.\n",
      "\n",
      "\n",
      "I'm never disappointed with the Breakfast Blend Coffee from Green Mountain Coffee.  It's always fresh and makes a very smooth cup of coffee, never bitter.\n",
      "\n",
      "\n",
      "I like strong coffee but was able to use the cup 3  times. Reminds me of Starbucks coffee. The cost is good but you really have to have a taste for very strong flavor. Asfar as ordering it again...NO. If you like strong coffee this will be a barginfor the cost because of making several cups of coffee from 1 k cup.\n",
      "\n",
      "\n",
      "Topic 4:\n",
      "food dog dogs treats cat cats eat loves treat chicken\n",
      "\n",
      "\n",
      "Our dog loved this food.  He does like most food, but he really seemed to get excited about this stuff.  It was his first adult dog food after puppy food.  He actually seemed to get a bit thin on it at times, maybe because it doesn't pack down and I was feeding him a bit less than I thought I was.  His stool seemed very healthy while on this food.  It's a good product.\n",
      "\n",
      "\n",
      "My dogs seem to love this stuff. It is neat to see the dried fruit bits in the mix of this dog food, my dogs love the bits so much they lick the bowl clean to get all the crumbs. Seems to be quite good quality dog food with good ingredients as I checked against many reviews. I will try to stay with this dog food if cost permits as I had originally purchased from Amazon when there was a special discount offer on it.<br /><br />I am also impressed with the shipping/packing of the dog food. I was worried that would receive bag of dog food that was worn out from shipping but it arrived inside appropriate box and with paper filler for safe shipping of dog food. Very happy!\n",
      "\n",
      "\n",
      "Amazon had the best price for Honest Kitchen dog food.  We were recommended to try this food because our dog has allergies.  The food was gobbled up quickly, but unfortunately didn't have much affect on the allergies over time.  We've since switched to another food for the next several months, and will hope to see a change.  But Honest Kitchen is good food, human grade quality (but made for dogs) - and the ratings with most dog food rating companies show this food is very highly rated.\n",
      "\n",
      "\n",
      "It's simple really, My dog is a very picky eater, not to mention she's allergic to so many things. We tried a lot of the name brand dog foods out there (Iams, Avoderm, Science Diet). Nothing worked, so then one night when she was out of food I went to the store and grabbed two small bags of dog food. Happy Hips was one of them. She immediately wanted to smell the bag right after opening it (which she never did before), and as soon as we put it in her bowl she devoured it. With all of the dog food we had previously given her we always had to mix it with something just to get her to eat it, that wasn't the case with Happy Hips, she ate it dry the first night and is still eating it dry 2 months later. She always got bored with the other dog food, after a couple weeks she would stop eating and/or put her nose up to it. She doesn't do that with Happy Hips. She absolutely loves it. Plus it's all natural and made in the U.S.A. You pay more for it, but it's well worth it. If you have never given this to your dog, it may be best to start them off with 4 pound bag or find somewhere you can get a free sample. But I would strongly recommend this to anyone who has a dog. I have also found that Amazon is so far the cheapest place to buy this dog food, and when I buy it, I get the free shipping as well.\n",
      "\n",
      "\n"
     ]
    }
   ],
   "source": [
    "no_top_words = 10\n",
    "no_top_documents = 4\n",
    "print(\"NMF Topics \\n\\n\")\n",
    "display_topics(nmf_H, nmf_W, tfidf_feature_names, documents, no_top_words, no_top_documents)"
   ]
  },
  {
   "cell_type": "code",
   "execution_count": 50,
   "id": "2b2c0150",
   "metadata": {},
   "outputs": [],
   "source": [
    "# Run LDA\n",
    "lda_model = LatentDirichletAllocation(n_components=no_topics, max_iter=5, learning_method='online', learning_offset=50.,random_state=0).fit(tf)\n",
    "lda_W = lda_model.transform(tf)\n",
    "lda_H = lda_model.components_"
   ]
  },
  {
   "cell_type": "code",
   "execution_count": 51,
   "id": "4ded77c0",
   "metadata": {},
   "outputs": [
    {
     "name": "stdout",
     "output_type": "stream",
     "text": [
      "\n",
      "\n",
      "LDA Topics \n",
      "\n",
      "\n",
      "Topic 0:\n",
      "coffee tea like flavor cup taste good br just green\n",
      "\n",
      "\n",
      "To me this coffee was extremely bitter.  I dumped it out and made a different cup.  It made me afraid to try other WP coffees but I did like the WP Sumatra Kopi Raya.<br /><br />For reference purposes my in store drink is a Starbucks Americano.<br /><br />My favorite k-cups are:<br />Starbucks French Roast<br />Starbucks Caffe Verona<br />Starbucks Pike Place Roast<br />Green Mountain Xtra Bold Sumatran Reserve<br />Green Mountain Double Black Diamond<br />Green Mountain Revv<br />Green Mountain Dark Magic<br /><br />Other k-cups I've tried:  Coffee People Jet Fuel ,Green Mountain Dark Magic Decaf, Emeril Jazzed up Decaf, Starbucks Caffe Verona, Coffee People Black Tiger,  Starbucks House Blend, Starbucks Breakfast Blend, Starbucks Sumatra, Wolfgang Puck French Roast, Green Mountain Lake and Lodge, Green Mountain French Roast, Caribou Mahogony, Wolfgang Puck Sumatra Kopi Raya, Emeril Big Easy Bold\n",
      "\n",
      "\n",
      "I found this coffee bold and flavorful.<br /><br />For reference purposes my in store drink is a Starbucks Americano.<br /><br />My favorite k-cups are:<br />Starbucks French Roast<br />Starbucks Caffe Verona<br />Starbucks Pike Place Roast<br />Green Mountain Xtra Bold Sumatran Reserve<br />Green Mountain Double Black Diamond<br />Green Mountain Revv<br />Green Mountain Dark Magic<br /><br />Other k-cups I've tried:  Coffee People Jet Fuel ,Green Mountain Dark Magic Decaf, Emeril Jazzed up Decaf, Starbucks Caffe Verona, Coffee People Black Tiger,  Starbucks House Blend, Starbucks Breakfast Blend, Starbucks Sumatra, Wolfgang Puck French Roast, Green Mountain Lake and Lodge, Green Mountain French Roast, Caribou Mahogony, Wolfgang Puck Sumatra Kopi Raya, Emeril Big Easy Bold\n",
      "\n",
      "\n",
      "...or the good reviewers' taste buds are weak.  This is some disappointingly<br />weak coffee.  I'm not some crazy \"gotta have my jet black sludge to get<br />through the day\" coffee drinker - I'd say my favorite (and my wife's) is<br />Caribou Blend.  This blend is WEAK, it can't hold half-and-half or even<br />just whole milk without being wiped out.  Now, I will say I brew it on<br />the \"large cup\" (9.25 oz, I believe) setting on our Keurig, so maybe it's<br />a bit better on the 8oz setting, or even the small setting.  But Caribou (we<br />also like Donut Shop, Green Mountain Kona Blend 10%, etc.) can be easily<br />brewed on 9.25 and hold a good bold taste.  This coffee doesn't<br />hold a CANDLE to any of those.  Now I'm stuck with 40+ of these. Blech...maybe<br />the guests won't mind it! :)\n",
      "\n",
      "\n",
      "...or the good reviewers' taste buds are weak.  This is some disappointingly<br />weak coffee.  I'm not some crazy \"gotta have my jet black sludge to get<br />through the day\" coffee drinker - I'd say my favorite (and my wife's) is<br />Caribou Blend.  This blend is WEAK, it can't hold half-and-half or even<br />just whole milk without being wiped out.  Now, I will say I brew it on<br />the \"large cup\" (9.25 oz, I believe) setting on our Keurig, so maybe it's<br />a bit better on the 8oz setting, or even the small setting.  But Caribou (we<br />also like Donut Shop, Green Mountain Kona Blend 10%, etc.) can be easily<br />brewed on 9.25 and hold a good bold taste.  This coffee doesn't<br />hold a CANDLE to any of those.  Now I'm stuck with 40+ of these. Blech...maybe<br />the guests won't mind it! :)\n",
      "\n",
      "\n",
      "Topic 1:\n",
      "chips sauce salt cookies br popcorn almonds soup hot spicy\n",
      "\n",
      "\n",
      "Shin Ramyun is very classic Korean Ramyun. It is spicy too. I recomment to put less soup base because it contains lots of sodium.\n",
      "\n",
      "\n",
      "They are good but wish they were also baked. Have not found baked no salt potato chips anywhere. If there are any I wish someone would post.\n",
      "\n",
      "\n",
      "They are good but wish they were also baked. Have not found baked no salt potato chips anywhere. If there are any I wish someone would post.\n",
      "\n",
      "\n",
      "No more white bland grits.  This makes absolutely the best shrimp and grits as well as polenta!\n",
      "\n",
      "\n",
      "Topic 2:\n",
      "food br dog dogs cat treats eat just like product\n",
      "\n",
      "\n",
      "This review will make me sound really stupid, but whatever. I don't really care as long as people find out what's real and can avoid my mistakes.<br /><br />I got my wonderful little sweet Bella Bean when she was a few days shy of three years old. She had been bounced around from house to house and eating whatever was cheap. I have had cats around me my entire life, for about twenty-five years now. My mother always just fed them whatever, the kinds of food you buy in the supermarket - Friskies, Nine Lives, Kit & Kaboodle, stuff like that. And our cats were always fine, at least in terms of their eating habits. They would eat in the morning, stop when they were done, come back, and eat some more when they got hungry.<br /><br />My housemate at the time was working for Hill's and assured me that this was the best food ever made, so great, so on and so forth. I now know that she is an utter buffoon, but I initially trusted her judgment, which is so unfortunate because she doesn't think. She also had plenty of coupons for free or deeply discounted bags, which made it a much more attractive choice.<br /><br />I first tried feeding the little Bean an unmeasured amount of Science Diet in a bowl, but that didn't work, as she would devour it in one sitting. So then I took to measuring it, and she did the same thing. Then I started parsing it out to twice a day. That didn't work either, because she would start going crazy in the middle of the day, running around, intentionally destroying things, deliberately spilling her water, crying, etc., until she got more food. So then I split it into three servings. Same thing. Then it got to be four servings. That was a little better, but it was too much maintenance and unrealistic to be around every day to feed her four times. So then it went back to three. All the while, I was trying to reduce the amount of food I was feeding her to less than 3/4 of a cup because she was a little chubby. Reducing was hell. She became even more hungry, but I figured she would get used to it. Not really.<br /><br />For over a year, she would wake me up every morning looking for food in a serious way, knocking things off my desk, ripping up any paper she could find, scratching at the door and committing general acts of mischief. As soon as she got food, she was back to her sweet self, but only for three or four hours.<br /><br />We thought she was bored, we thought she was a little nutty, and maybe even had a kitty eating disorder. She always wanted food. It was kind of funny but in the end it was just sad.<br /><br />A few weeks back, we took her to a new (good, non-money factory) vet for her second checkup since I've had her. I talked with him about her being always hungry. He asked what she ate, and I told him the adult indoor Science Diet. Without saying as much, he basically told me that this food is garbage and I should look for something else. He said cat food should have a protein followed by a carbohydrate as the first two ingredients. Science Diet does, in a very loose, by-product kind of way - ground up slaughterhouse leftovers and corn dust. Then they put a bunch of vitamins in it to make it \"healthy,\" instead of just using good ingredients from the beginning. Not that I care about spending money on the Bean, but this food is way too expensive for what it is.<br /><br />So we began transitioning her onto Wellness indoor formula about two weeks ago. She is still eating 50 percent Science Diet with 50 percent Wellness (you really shouldn't just give a cat different food one day out of the blue) but SHE NEVER FREAKS OUT ANYMORE. It's amazing. And it's 100 percent because she is eating real food now, along with that sawdust and chicken hearts I still regrettable have to feed her. We have her down to eating twice a day, only 1/3 cup in TOTAL. She was eating three times a day, 5/8 of a cup in total. Now she eats some in the morning, walks away, eats some more a few hours later, and then looks for dinner about twelve hours after her initial feeding. No more knocking things over, no more trashing Dad's papers on the desk, no more howling, no more deliberately spilled water on the floor. It's incredible.<br /><br />I feel so bad that I was doing this to her for so long. We really thought she was just being dramatic or whatever. But no, she was genuinely hungry because she wasn't eating any real food.<br /><br />Do your cat a favor - buy her or him so food made with real ingredients, things you would eat - Wellness, Halo, Innova, Evo, whatever. Figure it out for yourself, but please don't feed your cat this. It's garbage.\n",
      "\n",
      "\n",
      "This review will make me sound really stupid, but whatever. I don't really care as long as people find out what's real and can avoid my mistakes.<br /><br />I got my wonderful little sweet Bella Bean when she was a few days shy of three years old. She had been bounced around from house to house and eating whatever was cheap. I have had cats around me my entire life, for about twenty-five years now. My mother always just fed them whatever, the kinds of food you buy in the supermarket - Friskies, Nine Lives, Kit & Kaboodle, stuff like that. And our cats were always fine, at least in terms of their eating habits. They would eat in the morning, stop when they were done, come back, and eat some more when they got hungry.<br /><br />My housemate at the time was working for Hill's and assured me that this was the best food ever made, so great, so on and so forth. I now know that she is an utter buffoon, but I initially trusted her judgment, which is so unfortunate because she doesn't think. She also had plenty of coupons for free or deeply discounted bags, which made it a much more attractive choice.<br /><br />I first tried feeding the little Bean an unmeasured amount of Science Diet in a bowl, but that didn't work, as she would devour it in one sitting. So then I took to measuring it, and she did the same thing. Then I started parsing it out to twice a day. That didn't work either, because she would start going crazy in the middle of the day, running around, intentionally destroying things, deliberately spilling her water, crying, etc., until she got more food. So then I split it into three servings. Same thing. Then it got to be four servings. That was a little better, but it was too much maintenance and unrealistic to be around every day to feed her four times. So then it went back to three. All the while, I was trying to reduce the amount of food I was feeding her to less than 3/4 of a cup because she was a little chubby. Reducing was hell. She became even more hungry, but I figured she would get used to it. Not really.<br /><br />For over a year, she would wake me up every morning looking for food in a serious way, knocking things off my desk, ripping up any paper she could find, scratching at the door and committing general acts of mischief. As soon as she got food, she was back to her sweet self, but only for three or four hours.<br /><br />We thought she was bored, we thought she was a little nutty, and maybe even had a kitty eating disorder. She always wanted food. It was kind of funny but in the end it was just sad.<br /><br />A few weeks back, we took her to a new (good, non-money factory) vet for her second checkup since I've had her. I talked with him about her being always hungry. He asked what she ate, and I told him the adult indoor Science Diet. Without saying as much, he basically told me that this food is garbage and I should look for something else. He said cat food should have a protein followed by a carbohydrate as the first two ingredients. Science Diet does, in a very loose, by-product kind of way - ground up slaughterhouse leftovers and corn dust. Then they put a bunch of vitamins in it to make it \"healthy,\" instead of just using good ingredients from the beginning. Not that I care about spending money on the Bean, but this food is way too expensive for what it is.<br /><br />So we began transitioning her onto Wellness indoor formula about two weeks ago. She is still eating 50 percent Science Diet with 50 percent Wellness (you really shouldn't just give a cat different food one day out of the blue) but SHE NEVER FREAKS OUT ANYMORE. It's amazing. And it's 100 percent because she is eating real food now, along with that sawdust and chicken hearts I still regrettable have to feed her. We have her down to eating twice a day, only 1/3 cup in TOTAL. She was eating three times a day, 5/8 of a cup in total. Now she eats some in the morning, walks away, eats some more a few hours later, and then looks for dinner about twelve hours after her initial feeding. No more knocking things over, no more trashing Dad's papers on the desk, no more howling, no more deliberately spilled water on the floor. It's incredible.<br /><br />I feel so bad that I was doing this to her for so long. We really thought she was just being dramatic or whatever. But no, she was genuinely hungry because she wasn't eating any real food.<br /><br />Do your cat a favor - buy her or him so food made with real ingredients, things you would eat - Wellness, Halo, Innova, Evo, whatever. Figure it out for yourself, but please don't feed your cat this. It's garbage.\n",
      "\n",
      "\n",
      "This review will make me sound really stupid, but whatever. I don't really care as long as people find out what's real and can avoid my mistakes.<br /><br />I got my wonderful little sweet Bella Bean when she was a few days shy of three years old. She had been bounced around from house to house and eating whatever was cheap. I have had cats around me my entire life, for about twenty-five years now. My mother always just fed them whatever, the kinds of food you buy in the supermarket - Friskies, Nine Lives, Kit & Kaboodle, stuff like that. And our cats were always fine, at least in terms of their eating habits. They would eat in the morning, stop when they were done, come back, and eat some more when they got hungry.<br /><br />My housemate at the time was working for Hill's and assured me that this was the best food ever made, so great, so on and so forth. I now know that she is an utter buffoon, but I initially trusted her judgment, which is so unfortunate because she doesn't think. She also had plenty of coupons for free or deeply discounted bags, which made it a much more attractive choice.<br /><br />I first tried feeding the little Bean an unmeasured amount of Science Diet in a bowl, but that didn't work, as she would devour it in one sitting. So then I took to measuring it, and she did the same thing. Then I started parsing it out to twice a day. That didn't work either, because she would start going crazy in the middle of the day, running around, intentionally destroying things, deliberately spilling her water, crying, etc., until she got more food. So then I split it into three servings. Same thing. Then it got to be four servings. That was a little better, but it was too much maintenance and unrealistic to be around every day to feed her four times. So then it went back to three. All the while, I was trying to reduce the amount of food I was feeding her to less than 3/4 of a cup because she was a little chubby. Reducing was hell. She became even more hungry, but I figured she would get used to it. Not really.<br /><br />For over a year, she would wake me up every morning looking for food in a serious way, knocking things off my desk, ripping up any paper she could find, scratching at the door and committing general acts of mischief. As soon as she got food, she was back to her sweet self, but only for three or four hours.<br /><br />We thought she was bored, we thought she was a little nutty, and maybe even had a kitty eating disorder. She always wanted food. It was kind of funny but in the end it was just sad.<br /><br />A few weeks back, we took her to a new (good, non-money factory) vet for her second checkup since I've had her. I talked with him about her being always hungry. He asked what she ate, and I told him the adult indoor Science Diet. Without saying as much, he basically told me that this food is garbage and I should look for something else. He said cat food should have a protein followed by a carbohydrate as the first two ingredients. Science Diet does, in a very loose, by-product kind of way - ground up slaughterhouse leftovers and corn dust. Then they put a bunch of vitamins in it to make it \"healthy,\" instead of just using good ingredients from the beginning. Not that I care about spending money on the Bean, but this food is way too expensive for what it is.<br /><br />So we began transitioning her onto Wellness indoor formula about two weeks ago. She is still eating 50 percent Science Diet with 50 percent Wellness (you really shouldn't just give a cat different food one day out of the blue) but SHE NEVER FREAKS OUT ANYMORE. It's amazing. And it's 100 percent because she is eating real food now, along with that sawdust and chicken hearts I still regrettable have to feed her. We have her down to eating twice a day, only 1/3 cup in TOTAL. She was eating three times a day, 5/8 of a cup in total. Now she eats some in the morning, walks away, eats some more a few hours later, and then looks for dinner about twelve hours after her initial feeding. No more knocking things over, no more trashing Dad's papers on the desk, no more howling, no more deliberately spilled water on the floor. It's incredible.<br /><br />I feel so bad that I was doing this to her for so long. We really thought she was just being dramatic or whatever. But no, she was genuinely hungry because she wasn't eating any real food.<br /><br />Do your cat a favor - buy her or him so food made with real ingredients, things you would eat - Wellness, Halo, Innova, Evo, whatever. Figure it out for yourself, but please don't feed your cat this. It's garbage.\n",
      "\n",
      "\n",
      "This review will make me sound really stupid, but whatever. I don't really care as long as people find out what's real and can avoid my mistakes.<br /><br />I got my wonderful little sweet Bella Bean when she was a few days shy of three years old. She had been bounced around from house to house and eating whatever was cheap. I have had cats around me my entire life, for about twenty-five years now. My mother always just fed them whatever, the kinds of food you buy in the supermarket - Friskies, Nine Lives, Kit & Kaboodle, stuff like that. And our cats were always fine, at least in terms of their eating habits. They would eat in the morning, stop when they were done, come back, and eat some more when they got hungry.<br /><br />My housemate at the time was working for Hill's and assured me that this was the best food ever made, so great, so on and so forth. I now know that she is an utter buffoon, but I initially trusted her judgment, which is so unfortunate because she doesn't think. She also had plenty of coupons for free or deeply discounted bags, which made it a much more attractive choice.<br /><br />I first tried feeding the little Bean an unmeasured amount of Science Diet in a bowl, but that didn't work, as she would devour it in one sitting. So then I took to measuring it, and she did the same thing. Then I started parsing it out to twice a day. That didn't work either, because she would start going crazy in the middle of the day, running around, intentionally destroying things, deliberately spilling her water, crying, etc., until she got more food. So then I split it into three servings. Same thing. Then it got to be four servings. That was a little better, but it was too much maintenance and unrealistic to be around every day to feed her four times. So then it went back to three. All the while, I was trying to reduce the amount of food I was feeding her to less than 3/4 of a cup because she was a little chubby. Reducing was hell. She became even more hungry, but I figured she would get used to it. Not really.<br /><br />For over a year, she would wake me up every morning looking for food in a serious way, knocking things off my desk, ripping up any paper she could find, scratching at the door and committing general acts of mischief. As soon as she got food, she was back to her sweet self, but only for three or four hours.<br /><br />We thought she was bored, we thought she was a little nutty, and maybe even had a kitty eating disorder. She always wanted food. It was kind of funny but in the end it was just sad.<br /><br />A few weeks back, we took her to a new (good, non-money factory) vet for her second checkup since I've had her. I talked with him about her being always hungry. He asked what she ate, and I told him the adult indoor Science Diet. Without saying as much, he basically told me that this food is garbage and I should look for something else. He said cat food should have a protein followed by a carbohydrate as the first two ingredients. Science Diet does, in a very loose, by-product kind of way - ground up slaughterhouse leftovers and corn dust. Then they put a bunch of vitamins in it to make it \"healthy,\" instead of just using good ingredients from the beginning. Not that I care about spending money on the Bean, but this food is way too expensive for what it is.<br /><br />So we began transitioning her onto Wellness indoor formula about two weeks ago. She is still eating 50 percent Science Diet with 50 percent Wellness (you really shouldn't just give a cat different food one day out of the blue) but SHE NEVER FREAKS OUT ANYMORE. It's amazing. And it's 100 percent because she is eating real food now, along with that sawdust and chicken hearts I still regrettable have to feed her. We have her down to eating twice a day, only 1/3 cup in TOTAL. She was eating three times a day, 5/8 of a cup in total. Now she eats some in the morning, walks away, eats some more a few hours later, and then looks for dinner about twelve hours after her initial feeding. No more knocking things over, no more trashing Dad's papers on the desk, no more howling, no more deliberately spilled water on the floor. It's incredible.<br /><br />I feel so bad that I was doing this to her for so long. We really thought she was just being dramatic or whatever. But no, she was genuinely hungry because she wasn't eating any real food.<br /><br />Do your cat a favor - buy her or him so food made with real ingredients, things you would eat - Wellness, Halo, Innova, Evo, whatever. Figure it out for yourself, but please don't feed your cat this. It's garbage.\n",
      "\n",
      "\n",
      "Topic 3:\n",
      "br like taste good product flavor just great sugar love\n",
      "\n",
      "\n",
      "I ordered this at the asking of my wife because she is dieting. I was against it from the start, but I will make my review fair.<br />The product is not peanut butter, if you expect peanut butter than you will be disappointed. It tastes like peanut butter. If I could compare it to something it is like eating a regular Oreo and a reduced fat Oreo. The reduced Oreo tastes like and Oreo, but really just leaves you wanting the real thing. This product is no different. If you mask it will jelly and bread, the off taste becomes less noticeable, but there in lies the problem. You have to add more calories back in to make this product taste better. There by negating the fact that you have cut calories. As I explained to my wife after we both decided this product was not for us. The problem with any peanut butter food is normally everything but the peanut butter. The fat is the healthiest part. You wouldn't eat omega free fish because it's lower in fat, why would you do the same to peanut butter?<br />The only way I could recommend this is if you are doing a starvation sort of diet (i.e. you eating this with celery and water). If you are doing a healthy diet don't cut out the peanut butter of your PB&J, cut out the jelly first and then the grain. I eat again \"regular\" non-hydrogenated peanut butter will celery, now there is a healthy food.<br /><br />Pros<br />+lower calorie<br />+great price here on amazon<br />+does taste similar to peanut butter<br /><br />Cons<br />-less nutritional value<br />-doesn't taste like real peanut butter<br /><br />I will give it four stars if you are doing a starvation sort of diet, which I don't recommend, but it does taste alright for a lot less calories. For everyone else I give it one star as you should not be eating products like this and the product itself is not that good. Overall 2 stars, weighted towards everyone else.\n",
      "\n",
      "\n",
      "While the traditional Snickers bar is delicious and satisfying and filled with peanuts in every bite and that wonderful smooth and tasty chocolate flavor, the Snickers Peanut Butter candy bar falls short on flavor, taste, ingredients, and portion size.<br /><br />The 1.78 oz. 250 calorie bar has very little traces of peanut butter or peanuts as intimated by the packaging.  I found only one half of a peanut in one of the two sections of the candy bar.<br /><br />Cons:<br /><br />Much of the candy bar is chalk full of artificial flavors and fillers.  Although the ingredient peanut butter is prominently displayed on the packaging, it is listed as peanut butter (peanuts, partially hydrogenated soybean oil).<br /><br />The chocolate also has a rather diet flavor, and is listed as milk chocolate (sugar, cocoa butter, chocolate, skim milk, lactose, milkfat, soy lecithin, artificial flavor).  It doesn't taste like chocolate.<br /><br />So, don't waste the calories on this flavorless dud.  It's not worth the 13 g fat, 6 g sat. fat, 24 g sugar, and 150 mg of sodium.  Go for the traditional to satisfy your craving for a nutty and tasty chocolate treat.<br /><br />It does not have the hefty weight of the traditional candy bar so you get less candy for your money.<br /><br />Pros:<br /><br />The packing is brightly colored and appealing.  The product is divided into two small square shaped sections that allow you to save one for later.  It has the Snickers logo prominently displayed on the brightly colored yellow package.\n",
      "\n",
      "\n",
      "Just as so many other reviewers have stated, PB2 is absolutely wonderful in shakes! Everyone has their own kind of shakes they make and for me, it's Slim-Fast + fat-free milk + 1 tbsp of PB2 + some ice in a blender. It is a great tasting chocolate peanut butter shake! I have not used the PB2 in other similar ways. I enjoy my shake so much though, that I will continue to buy the PB2 for it.<br /><br />That being said.. I mixed it to make it just like a peanut butter- 2 tbsp of powder + 1 tbsp of water. I spread it on an English muffin (I love an English muffin with peanut butter). Unlike other reviews, I have to say, that was not pleasant at all. The consistency was fine but I'd give up peanut butter altogether before doing that again. In my opinion, it was awful tasting and even made me sick to my stomach while I was eating it and for a while after I had finished.<br /><br />Even though I disliked the PB2 prepared with water, I still give it 4 stars because it is such a great mix-in and I will continue to make my chocolate peanut butter shakes with it. I will have to keep my natural Jif peanut butter though for sandwiches until there's a truly adequate/great tasting substitute. I've seen several dieticians and they have all said it's a good idea to fit in natural peanut butter into the diet for the healthy fats, but just don't overdo it. I've lost 20 lbs and still incorporated natural peanut butter into my diet, so it can be done (again, moderation).<br /><br />Nutrition: The nutrition is also why this product is so popular! With 1.5 grams of fat, 5 grams of carbs, 2 grams of Fiber and 5 grams of Protein, this is a great choice and it is diabetic friendly. :)\n",
      "\n",
      "\n",
      "Granola has a healthy reputation but the truth is that it is usually chock full of calories, fat, sodium, and sugar.<br /><br />This granola is not as sweet as many (Our favorite is Whole Foods Almond Crunch, which is as addictive as crack, but has tons of sugar and fat)  Although it doesn't look like that much chocolate, you can taste it in every bite.<br /><br />This granola is surprisingly healthy - no palm oil, hydrogenated fats, etc.  Some saturated fat, I presume from the chocolate.  All the ingredients are identifiable<br /><br />Here are the numbers compared to Cheerios (Which I consider the healthiest cereal this side of organic free range sawdust)<br /><br />First I have to adjust the serving size to get a fair comparison.  Cheerios uses a 28g serving size with 100 calories while BTN Granola<br /><br />Going with 50 gm servings for both,<br /><br />BTN = 220 calories, Cheerios = 179<br />Calories from fat: BTN = 23%, Cheerios = 15%<br />Carb calories from sugar: BTN = 35%, Cheerios = 5%<br />Protein: BTN = 5g, Cheerios = 5g<br />Sodium: BTN=5 mg, Cheerios = 339mg!<br />Dietary fiber: BTN = 4 g, Cheerios = 7g<br /><br />Overall, it's quite healthy and tasty.  I recommend it.  Four stars though as I would have preferred a bit stronger flavor (more vanilla perhaps?)<br /><br />My ratings: 1star: Avoid! / 2star: Some merit but I can't recommend  / 3star: Decent, recommended / 4star: Highly recommended  / 5 star: Nearly perfect!<br /><br />If you have found this review to be helpful, please let me know!\n",
      "\n",
      "\n",
      "Topic 4:\n",
      "product amazon like box just order ordered water time got\n",
      "\n",
      "\n",
      "I've always bought Miracle Grow, it WAS good.  The last 2 years it' has really gone downhill fast.  I've tried their potting mix, African violet soil and the worst of all, Moisture Control.  I also get gnats flying all around my house.  The soil is so bad!  I have found every thing from sticks to rocks in the soil.  And when watering plants, the water just sits there on top.  The soil doesn't soak up the water.  The African voilet soil also does not retain water, shoots right through to the tray and then won't soak it back up into the pot, the water just sits there.  The Moisture Control soil is a nightmare!  I've had plants actually rot at the roots, and I didn't water them for over 2 weeks!  My plants have never looked so sickly.  My husband laughingly looked at it the soil and asked me if I were planting my flowers in peat moss?  I didn't laugh.  The soil I bought just this weekend for outdoor pots, smelled horrible!  I had to keep the windows open during the trip home.  I've also opened bags of soil that had mold in it!  This company needs to change, change back to what they were previously 'cause I for one am going to look for a different brand.\n",
      "\n",
      "\n",
      "I absolutely love my Sodastream because I drink a lot of sparkling water and this has saved me a fortune! Recently I thought it would be great to have some of the soda flavorings around for guests, mixed drinks, etc. However, I have not been thrilled with diet flavors I have tried so far. Of the three I have tried (diet tonic, diet ginger ale, and diet root beer), I think the diet root beer is the best, but is not even close to any of the name brand diet root beers.  Both the diet ginger ale and diet tonic have a nasty aftertaste - way worse than any name brand diet soda on the market.  The worst part about the aftertaste is that it doesn't seem to go away. As I write this, I still have a bad taste in my mouth - and it's been nearly a half hour since I drank some of the diet ginger ale. That alone compelled me to pull out my computer and log a review. I have tried them several times now, altering the amount of syrup to see if it would make a difference, and each time I end up pouring it down the drain. I am SO disappointed by this as I had high hopes for flavorings.\n",
      "\n",
      "\n",
      "I absolutely love my Sodastream because I drink a lot of sparkling water and this has saved me a fortune! Recently I thought it would be great to have some of the soda flavorings around for guests, mixed drinks, etc. However, I have not been thrilled with diet flavors I have tried so far. Of the three I have tried (diet tonic, diet ginger ale, and diet root beer), I think the diet root beer is the best, but is not even close to any of the name brand diet root beers.  Both the diet ginger ale and diet tonic have a nasty aftertaste - way worse than any name brand diet soda on the market.  The worst part about the aftertaste is that it doesn't seem to go away. As I write this, I still have a bad taste in my mouth - and it's been nearly a half hour since I drank some of the diet ginger ale. That alone compelled me to pull out my computer and log a review. I have tried them several times now, altering the amount of syrup to see if it would make a difference, and each time I end up pouring it down the drain. I am SO disappointed by this as I had high hopes for flavorings.\n",
      "\n",
      "\n",
      "dont let these people fool you i read these reviews and ordered because i thought to myself ( oh they say it works very well I have to get it and try it )! Do Not fool yourself. I got it and tried it and it does not work that well at all. I used it to get rid of gnats and i waited for 3 weeks and nothing until the 4th week I got 2 finally so this product sucks. The advice i give you if you have gnats, kill them with your hand or fly swatter when you see them. It works very well with me. Gnats and flies will come in whenever they want and there is really nothing you can do about it. Let's face it, they are nasty bugs that fly around and bug the tar out of you we both know that. The second you kill them, you will eventually find more the second you turn around so get over it. Just give up and kill them yourselves. that theory works fantastic for me and i have not seen any more in my house until i open the door. Good luck.\n",
      "\n",
      "\n"
     ]
    }
   ],
   "source": [
    "print(\"\\n\\nLDA Topics \\n\\n\")\n",
    "display_topics(lda_H, lda_W, tf_feature_names, documents, no_top_words, no_top_documents)"
   ]
  },
  {
   "cell_type": "code",
   "execution_count": 52,
   "id": "14320406",
   "metadata": {},
   "outputs": [],
   "source": [
    "#SVD\n",
    "lsi_model = TruncatedSVD(n_components=no_topics, n_iter=7, random_state=42).fit(tf)\n",
    "lsi_W = lsi_model.transform(tf)\n",
    "lsi_H = lsi_model.components_"
   ]
  },
  {
   "cell_type": "code",
   "execution_count": 53,
   "id": "e1389547",
   "metadata": {},
   "outputs": [
    {
     "name": "stdout",
     "output_type": "stream",
     "text": [
      "\n",
      "\n",
      "LSI Topics \n",
      "\n",
      "\n",
      "Topic 0:\n",
      "br like food just product good taste coffee flavor tea\n",
      "\n",
      "\n",
      "[...]<br />Recall -- Firm Press Release<br /><br />FDA posts press releases and other notices of recalls and market withdrawals from the firms involved as a service to consumers, the media, and other interested parties. FDA does not endorse either the product or the company.<br />Creative Energy Foods, Inc. Recalls Crunch® thinkThin Nutrition Bars Due to Possible Health Risk Associated With Sunland Inc. Peanut Products<br /><br />Contact:<br />Consumer:<br />510-567-1200<br /><br />FOR IMMEDIATE RELEASE - October 12, 2012 - Creative Energy Foods, Inc. (CEF) is voluntarily recalling Crunch® thinkThin nutrition bars which may contain blanched roasted peanuts supplied by Sunland , Inc. to CEF. The decision was made as the result of the expanded recall of peanut butter, nut butters and peanut products by Sunland because of potential contamination with Salmonella.<br /><br />Salmonella bacteria can cause serious and sometimes fatal infections in young children, frail or elderly people, and others with weakened immune systems. Healthy persons infected with Salmonella often experience fever, diarrhea (which may be bloody), nausea, vomiting and abdominal cramps. Consumers with the above symptoms should consult their physician.<br /><br />While no illnesses associated with any of these products have been reported to date, as part of our commitment to the safety and quality of our products we have decided to issue a voluntary recall.<br /><br />Consumers who have any products covered by this recall should dispose of them.  Consumers who have any questions about the recalled products are urged to contact CEF Monday through Friday, 8:00AM - 4:30PM Pacific Time at 510-567-1200, extension #1.  Consumers with questions or concerns about their health should contact their doctor or health care provider.<br /><br />The Best-By-Dates for the recalled products are listed below and can be found on the back of the package, underneath the seal.<br /><br />These products were distributed at retail chain stores nation wide from March 2010 to October 12, 2012.<br /><br />The following products being recalled:<br /><br />BRAND<br /><br />FLAVOR<br /><br />SIZE<br /><br />UPC CODE<br /><br />BEST BY DATES<br /><br />Crunch® thinkThin<br /><br />Mixed Nuts<br /><br />40 grams<br /><br />7 53656 70840 9<br /><br />101812, 110912, 120112, 022813, 040413, 041913, 050913, 051513, 052313, 060113, 060813, 061313. 062713, 070913 AND expired lots prior to Best By 101012<br /><br />Crunch® thinkThin<br /><br />White Chocolate Dipped Mixed Nuts<br /><br />40 grams<br /><br />7 53656 70861 4<br /><br />030113 ,032513, 042013, 052213, 060113, 061513, 062213 AND expired lots prior to Best By 101012<br /><br />Crunch® thinkThin<br /><br />Chocolate Dipped Mixed Nuts<br /><br />40 grams<br /><br />7 53656 70843 0<br /><br />101812, 102612, 110812, 110912, 120312, 030713, 030813, 031613, 032513, 041213, 041313, 042113, 042513, 042813, 051213, 052313, 052413, 060713, 061413, 062613, 062813, 071813 AND expired lots prior to Best By 101012<br /><br />Crunch® thinkThin<br /><br />Caramel Chocolate Dipped Mixed Nuts<br /><br />40 grams<br /><br />7 53656 70879 9<br /><br />112812, 030813, 040513, 042113, 051013, 060113, 061513, 071313 AND expired lots prior to Best By 101012<br /><br />Crunch® thinkThin<br /><br />Cherry & Mixed Nuts<br /><br />40 grams<br /><br />7 53656 70915 4<br /><br />022313, 032513, 041913, 042513, 061113 AND expired lots prior to Best By 101012<br /><br />Crunch® thinkThin<br /><br />Blueberry & Mixed Nuts<br /><br />40 grams<br /><br />7 53656 70906 2<br /><br />111812, 022313, 022413, 032813, 040413, 042113, 051813, 051913, 060813, 062713, 062813, 071913 AND expired lots prior to Best By 101012<br /><br />Crunch® thinkThin<br /><br />Cranberry Apple & Mixed Nuts<br /><br />40 grams<br /><br />7 53656 70909 3<br /><br />030813, 041113, 052913, 062213 AND expired lots prior to Best By 101012<br /><br />###\n",
      "\n",
      "\n",
      "I am what might be called a \"lazy cook\".  Most recipes totally<br />faize me, and the clean-up afterwards, (what with a broken<br />dishwasher in my home at present), makes the idea of creaing<br />meals for myself even more distasteful.<br /><br />But ravioli?  Like other pasta dishes, it's even easy for ME<br />to prepare.  1) Put frozen ravioli, (or other pasta product,<br />into a Pasta Express or other large container which has a<br />lid. (I like using 32 ounce zip-lock containers.)  2) Pour<br />boiling water into said container, to cover ravioli or other<br />pasta product, and more, stopping at about 1/2 inch from lid.<br />3) Cover container.  (If using a zip-lock container, leave<br />one of the four locking corners OPEN.  Or two of the locking<br />corners open -- slightly.)  3) Wait 45 minutes to an hour,<br />or until most if not all of the water is absorbed by the<br />ravioli or other pasta product.  4) Drain away excess water.<br />5) Put into dish, and cover with desired sauce, and cheese,<br />if any.....<br /><br />Voila!  Ravioli!  (Or other pasta product!)  However, there<br />is DEFINITELY ONE THING which this Chef Boyardi Beef Ravioli<br />14.25-ounce, Microwavable Bowl, (or most other similar 14 or<br />more microwavable bowl products) can do, that \"semi-homemade\"<br />ravioli cannot do.  And that is............ONCE THE BOWL IS<br />EMPTY, YOU CAN WASH, RINSE AND DRY IT THOROUGHLY, THEN<br />TURN THE CAP, OVER.  AND USE AS A SOAP DISH!  I personally<br />like the YELLOW cap of the this item, rather than the red<br />caps of similar items -- but it's your choice.  Those little<br />HOLES in the plastic cap, that allow microwaving, make<br />dandy drainers for soap!  And if -- like me -- you find the<br />soap doesn't drain or dry fast enough with just these little<br />holes, you can, (as I have done), cut into the four little<br />holes, (carefully!), to make one big hole!  You have enjoyed<br />the pasta, and now you are enjoying savings, by not having<br />to buy a soap dish!<br /><br />NOTE: I do NOT own a microwave, and so I eat this yummy<br />ravioli cold.  (Warming it up in a saucepan, you see, would<br />entail the extra washing-up of that saucepan -- something I<br />do NOT want to do.)  However, since I have never microwaved<br />this item, I don't know what, (if anything), microwaving<br />might do to the pretty yellow lid of this item.  IF micro-<br />waving damages or makes the lid unusuable for a soap-dish<br />drainer, my advice is to get ONE bowl, and either heat the<br />contents up in a saucepan, (with the attending washing-up),<br />or eat the contents oold, as I have.  (It's quite delicious<br />this way, as well.)<br /><br />For even more savings, buy just TWO Chef Boyardee Beef Ravioli<br />14.25 ounce bowls, or similar product in similar size bowls.<br />Then, afterwards, you can have TWO soap-dishes -- and use each<br />one alternately, for even more drying of each now even MORE long-<br />lasting cake of soap!<br /><br />If you don't like to keep looking at the somewhat truly attract-<br />ive bowl covering, you can always remove it.  Use the bowl<br />plain, ((mine was white on the outside), or decorate it with<br />stick ons of your favourite people, places, or things!<br /><br />So, unless you are not only a lazy chef like me -- but a super-<br />duper lazy chef -- my recommendation would be to buy TWO, (and<br />ONLY two) of these Chef Boyardee Beef Ravioli, or simiar prod-<br />uct, in 14.25 ounce, (or close to that size), bowls, at your<br />local supermarket.  As far as I can see, buying a pack of 12<br />here on Amazon is, sadly, totally unnecessary -- unless, as I<br />have said, you are not only a lazy chef-- but a super-duper<br />lazy chef.<br /><br />However, not buying THIS particular product on Amazon should<br />NOT stop you from buying OTHER bargains on Amazon!  In fact,<br />you can, (as I have), take a blank sticker, write, \"AMAZON<br />FOREVER!\" on it, stick it carefully on one of the bowls of<br />your new soap dish, and enjoy it, along with other home-made<br />stickers of favourite sayings or pictures!<br /><br />Of course, if you REALLY like this product a lot, you CAN<br />always treat yourself to buying a dozen of them, from Amazon,<br />on special occasions, like your birthday or wedding, or other<br />anniversary, etc.!  Or, you might want to get together with<br />six friends, and each of you can make a set of soap-dishes<br />from the dozen offered here on Amazon.  Whatever way you<br />choose to enjoy this delightfully delicious product --<br />BON APPETITE!!!!\n",
      "\n",
      "\n",
      "*Note to Amazon.com,<br /><br />Pretty please put this Liver on Subscribe and Save! You have the beef & liver and the beef available for S&S but not the Liver yet. THANK YOU SO MUCH!<br /><br />Now on to my review...<br /><br />My cat has been slowly switching to Newman's own beef products over from Wellness brand cat food (which is a great brand and will still be reserved for treats occasionally). I was ecstatic that there was a totally NO grain-and-NO fillers ORGANIC cat food I could feed my 9 year old cat who is prone to crystal formation in his bladder and also plaque build up on his teeth (even though I brush his outer teeth every evening).<br /><br />So far I've tried the beef & Liver and the Liver and he LOVES it. I just ordered the beef today for him which I'm sure he'll love too.<br /><br />This product *IS* very thick and concentrated (the beef liver alone has the consistency of a concentrated pate' and the beef & liver has the consistency of a gelatinous, thick beefy oatmeal), so I scoop it into his bowl and blend a bit of hot water to the product to warm the fats and make more of a 'gravy' for him (he also prefers to eat his food a bit warm anyhow). He barely wants to nibble at his Wellness brand cat food now (which I've had him on for over four years, so I guess that means he's one 'sold' cat. It might be unusual for a cat to love beef so much but my cat goes crazy for beef (especially if I make him steak when I can afford to). So, for me to find him a organic, no grain, beef based line of cat food made his day (and one of his nine lives no doubt)!<br /><br />Anyway, if you know your cat already loves beef and beef liver then he/she will probably be just peachy keen with this product.<br /><br />Here is the ingredients list for Newman's own canned beef cat products:<br /><br />Beef:<br /><br />Organic Beef, Organic Beef Broth, Minerals (Calcium Carbonate, Zinc Proteinate, Iron Carbonate, Copper Proteinate, Manganese Iodate, Calcium Iodate, Sodium Selenite), Taurine, Vitamins (Vitamin A, E, E, D3, B12 and K Supplements, Choline, Niacin, Pantothenic Acid, Riboflavin, Thiamine, Pyridoxine, Folic Acid, Biotin).<br /><br />GUARANTEED ANALYSIS:<br /><br />Crude Protein..................12.0% (min)<br />Crude Fat.........................4.5% (min)<br />Crude Fiber......................1.0% (max)<br />Moisture.........................82.0% (max)<br />Ash.................................1.0% (max)<br />Magnesium.....................0.02% (max)<br />Taurine..........................0.07% (min)<br /><br />CALORIC VALUE:<br /><br />As fed (Kcal/3oz can)...........156<br /><br />Liver:<br /><br />Organic Beef Liver, Organic Liver Broth, Minerals (Calcium Carbonate, Zinc Proteinate, Iron Carbonate, Copper Proteinate, Manganese Iodate, Calcium Iodate, Sodium Selenite), Taurine, Vitamins (Vitamin A, E, E, D3, B12 and K Supplements, Choline, Niacin, Pantothenic Acid, Riboflavin, Thiamine, Pyridoxine, Folic Acid, Biotin).<br /><br />GUARANTEED ANALYSIS:<br /><br />Crude Protein..................11.0% (min)<br />Crude Fat.........................2.5% (min)<br />Crude Fiber......................1.0% (max)<br />Moisture.........................83.0% (max)<br />Ash.................................1.5% (max)<br />Magnesium.....................0.02% (max)<br />Taurine..........................0.07% (min)<br /><br />CALORIC VALUE:<br /><br />As fed (Kcal/12oz can)...........129<br /><br />Beef & Liver:<br /><br />Organic Beef, Organic Beef Liver, Organic Beef Broth, Minerals (Calcium Carbonate, Zinc Proteinate, Iron Carbonate, Copper Proteinate, Manganese Iodate, Calcium Iodate, Sodium Selenite), Taurine, Vitamins (Vitamin A, E, E, D3, B12 and K Supplements, Choline, Niacin, Pantothenic Acid, Riboflavin, Thiamine, Pyridoxine, Folic Acid, Biotin).<br /><br />GUARANTEED ANALYSIS:<br /><br />Crude Protein..................10.0% (min)<br />Crude Fat.........................3.0% (min)<br />Crude Fiber......................1.0% (max)<br />Moisture.........................82.0% (max)<br />Ash.................................1.0% (max)<br />Magnesium.....................0.02% (max)<br />Taurine..........................0.07% (min)<br /><br />CALORIC VALUE:<br /><br />As fed (Kcal/12oz can)...........140<br /><br />Here's to Kitty's health!\n",
      "\n",
      "\n",
      "I was getting VERY worried, when I read some of the other reviews here.  Specifically, the \"One Star\" reviews, to which I always go, to see if the faults these other reviewers find with any merchandise would prevent me from buying it.<br /><br />WOW!  They sure seemed to hate the KETTLE CHIPS, BACKYARD BARBECUE 9-OUNCE BAGS, (PACK OF 12), that I had bought as 1 ounce bags, liked A LOT, decided to subscribe....and then, for good measure, got 2 orders of the 9 ounce bags.<br /><br />Yes...I love potato chips....especially these KETTLE CHIPS, BACKYARD BARBECUE FLAVOUR....but others seemed to really HATE them...or at least, hate how they had changed.<br />But then I realized they were talking about OTHER FLAVOURS!  Amazon, in it's deep wisdom, has obviously seen fit to put ALL comments concerning ALL flavours of KETTLE, (and other brands of?????) potato chips, TOGETHER!<br /><br />Of course, this DOES have SOME advantages, because most potato-chip lovers, (like me!), enjoy eating several flavour, and brand varieties.  So, comparisons can be made easily.  Also, as we're all potato-chip lovers, but each person has his or her very favourite flavour that they are reviewing, we are, here a sort of \"United Nations of Potato Chip Lovers\"....all different, but all united in our love of Potato Chips!  (The rest of the world can REALLY benefit from the example of our tightly-knit, but ever...er,...expanding...group here, I think! : )  But -- not at first realizing that these<br />different flavour reviews were all together, did cause me a little confusion and dismay.... at least to begin with.... (Amazon should have mentioned that this is the \"Kettle Potato Chip Review Forum\"! : )<br /><br />I am happy to report that KETTLE CHIPS, BACKYARD BARBEQUE FLAVOUR, are totally delicious!  (At least they are in the one-ounce bags...hopefully the same product in the 9 ounce bags will taste the same!)  These are definitely chips for ADULTS, however -- and/or children whose stronger-than-adult taste buds can withstand the very strong flavour of these chips.  They are NOT the strongest flavour I have ever had...that was from a jalapeno pepper chip which was far too strong for even me!<br />These Backyard Barbeque chips by Kettle, however, have just the right amount of sweetness, (with honey powder, onion and sugar), to take the edge of the stonger flavours<br />(paprika, chili pepper, cayenne pepper, and natural smoke flavour), of which there is less, (they come further down in the list of ingredients than the sweeteners.)<br /><br />The complete list of ingredients of these KETTLE BACKYARD BARBECUE CHIPS, (in the 1-ounce bags, and hopefully, in the 9 ounce bags as well), is as follows:<br /><br />Potatoes<br />Vegetable Oil, (Safflower and Sunflower Oil),<br />Honey Powder, (Dried cane sugar, honey),<br />Rice Powder<br />Sugar<br />Salt<br />Onion Powder<br />Tomato Powder<br />Paprika<br />Torula Yeast<br />Garlic Powder<br />Chili Pepper<br />Citric Acid<br />Cayenne Pepper<br />Paprika Oleoresin, (Colour)<br />Natural Smoke Flavour<br /><br />Naturally cooked, natural ingredients.  The combination is a true taste treat!<br /><br />Of course, as with all ptato chips, moderation is the key.<br />Potatoes contain a LOT of potassium....which gives energy and othr good things....but too much of which can damage kindneys.  The vegetable oil is great -- but too much oil, (as well as too much starch, from the potatoes), can hurt the eyes.  Natural smoke flavour is SO yummy....but it, (as well as sugar), has -- in very large amounts -- been linked to cancer production<br /><br />As far as the starch from the potatoes and oil go, this<br />can be ameliorated, (a bit), by drinking TEA...which is good for the eyes.  But as far as the potassium, (energy - good, too much -- bad for the kidneys), and the sugar and natural smoke flavour, (too much leading to cancer production) -- the only thing is to do what is good in everything.....M O D E R A T I O N...!<br /><br />Twice or three times a month, I allow myself to go on what I call a \"Potato Chip Diet\".  I eat only one large bag, (or the equivalent in small ones), of potato chips all day.  I supplement this with tea, coffee, and lemonade, as well as several servings of Carnation Instant Breakfast Essentials, (I like the Dark Chocolate flavour)  This adds up to fewer calories than I would normally eat, if I had my normal three meals a day plus snacks.  It also teaches me to eat s-l-o-w-l-y, because that one big bag, (or many little bags), never lasts as long as I'd like.  Anyway, with excercise and sensible eating, the rest of the month, (and keeping my scale nearby, and weighing myself at least twice a day, every day), I've taken off ten pounds in the last three months! : )<br /><br />These BACKYARD BARBEQUE flavour potato chips from KETTLE,<br />are totally scrumptious.  Except for those jalapino chips, (which tasted good, but were far too spicy for my own taste buds), I have yet to meet a potato chip I didn't like to eat.  These Kettle BACKYARD BARBEQUE flavour potato chips, with their combination of potatoes, sweetness, and spices, have truly become one of my top five favourites....if not the VERY first favourite, of all!<br /><br />Flavoured potato PERFECTION!\n",
      "\n",
      "\n",
      "Topic 1:\n",
      "br magnesium rda thinkthin diamond beef 40 liver almonds max\n",
      "\n",
      "\n",
      "[...]<br />Recall -- Firm Press Release<br /><br />FDA posts press releases and other notices of recalls and market withdrawals from the firms involved as a service to consumers, the media, and other interested parties. FDA does not endorse either the product or the company.<br />Creative Energy Foods, Inc. Recalls Crunch® thinkThin Nutrition Bars Due to Possible Health Risk Associated With Sunland Inc. Peanut Products<br /><br />Contact:<br />Consumer:<br />510-567-1200<br /><br />FOR IMMEDIATE RELEASE - October 12, 2012 - Creative Energy Foods, Inc. (CEF) is voluntarily recalling Crunch® thinkThin nutrition bars which may contain blanched roasted peanuts supplied by Sunland , Inc. to CEF. The decision was made as the result of the expanded recall of peanut butter, nut butters and peanut products by Sunland because of potential contamination with Salmonella.<br /><br />Salmonella bacteria can cause serious and sometimes fatal infections in young children, frail or elderly people, and others with weakened immune systems. Healthy persons infected with Salmonella often experience fever, diarrhea (which may be bloody), nausea, vomiting and abdominal cramps. Consumers with the above symptoms should consult their physician.<br /><br />While no illnesses associated with any of these products have been reported to date, as part of our commitment to the safety and quality of our products we have decided to issue a voluntary recall.<br /><br />Consumers who have any products covered by this recall should dispose of them.  Consumers who have any questions about the recalled products are urged to contact CEF Monday through Friday, 8:00AM - 4:30PM Pacific Time at 510-567-1200, extension #1.  Consumers with questions or concerns about their health should contact their doctor or health care provider.<br /><br />The Best-By-Dates for the recalled products are listed below and can be found on the back of the package, underneath the seal.<br /><br />These products were distributed at retail chain stores nation wide from March 2010 to October 12, 2012.<br /><br />The following products being recalled:<br /><br />BRAND<br /><br />FLAVOR<br /><br />SIZE<br /><br />UPC CODE<br /><br />BEST BY DATES<br /><br />Crunch® thinkThin<br /><br />Mixed Nuts<br /><br />40 grams<br /><br />7 53656 70840 9<br /><br />101812, 110912, 120112, 022813, 040413, 041913, 050913, 051513, 052313, 060113, 060813, 061313. 062713, 070913 AND expired lots prior to Best By 101012<br /><br />Crunch® thinkThin<br /><br />White Chocolate Dipped Mixed Nuts<br /><br />40 grams<br /><br />7 53656 70861 4<br /><br />030113 ,032513, 042013, 052213, 060113, 061513, 062213 AND expired lots prior to Best By 101012<br /><br />Crunch® thinkThin<br /><br />Chocolate Dipped Mixed Nuts<br /><br />40 grams<br /><br />7 53656 70843 0<br /><br />101812, 102612, 110812, 110912, 120312, 030713, 030813, 031613, 032513, 041213, 041313, 042113, 042513, 042813, 051213, 052313, 052413, 060713, 061413, 062613, 062813, 071813 AND expired lots prior to Best By 101012<br /><br />Crunch® thinkThin<br /><br />Caramel Chocolate Dipped Mixed Nuts<br /><br />40 grams<br /><br />7 53656 70879 9<br /><br />112812, 030813, 040513, 042113, 051013, 060113, 061513, 071313 AND expired lots prior to Best By 101012<br /><br />Crunch® thinkThin<br /><br />Cherry & Mixed Nuts<br /><br />40 grams<br /><br />7 53656 70915 4<br /><br />022313, 032513, 041913, 042513, 061113 AND expired lots prior to Best By 101012<br /><br />Crunch® thinkThin<br /><br />Blueberry & Mixed Nuts<br /><br />40 grams<br /><br />7 53656 70906 2<br /><br />111812, 022313, 022413, 032813, 040413, 042113, 051813, 051913, 060813, 062713, 062813, 071913 AND expired lots prior to Best By 101012<br /><br />Crunch® thinkThin<br /><br />Cranberry Apple & Mixed Nuts<br /><br />40 grams<br /><br />7 53656 70909 3<br /><br />030813, 041113, 052913, 062213 AND expired lots prior to Best By 101012<br /><br />###\n",
      "\n",
      "\n",
      "I am what might be called a \"lazy cook\".  Most recipes totally<br />faize me, and the clean-up afterwards, (what with a broken<br />dishwasher in my home at present), makes the idea of creaing<br />meals for myself even more distasteful.<br /><br />But ravioli?  Like other pasta dishes, it's even easy for ME<br />to prepare.  1) Put frozen ravioli, (or other pasta product,<br />into a Pasta Express or other large container which has a<br />lid. (I like using 32 ounce zip-lock containers.)  2) Pour<br />boiling water into said container, to cover ravioli or other<br />pasta product, and more, stopping at about 1/2 inch from lid.<br />3) Cover container.  (If using a zip-lock container, leave<br />one of the four locking corners OPEN.  Or two of the locking<br />corners open -- slightly.)  3) Wait 45 minutes to an hour,<br />or until most if not all of the water is absorbed by the<br />ravioli or other pasta product.  4) Drain away excess water.<br />5) Put into dish, and cover with desired sauce, and cheese,<br />if any.....<br /><br />Voila!  Ravioli!  (Or other pasta product!)  However, there<br />is DEFINITELY ONE THING which this Chef Boyardi Beef Ravioli<br />14.25-ounce, Microwavable Bowl, (or most other similar 14 or<br />more microwavable bowl products) can do, that \"semi-homemade\"<br />ravioli cannot do.  And that is............ONCE THE BOWL IS<br />EMPTY, YOU CAN WASH, RINSE AND DRY IT THOROUGHLY, THEN<br />TURN THE CAP, OVER.  AND USE AS A SOAP DISH!  I personally<br />like the YELLOW cap of the this item, rather than the red<br />caps of similar items -- but it's your choice.  Those little<br />HOLES in the plastic cap, that allow microwaving, make<br />dandy drainers for soap!  And if -- like me -- you find the<br />soap doesn't drain or dry fast enough with just these little<br />holes, you can, (as I have done), cut into the four little<br />holes, (carefully!), to make one big hole!  You have enjoyed<br />the pasta, and now you are enjoying savings, by not having<br />to buy a soap dish!<br /><br />NOTE: I do NOT own a microwave, and so I eat this yummy<br />ravioli cold.  (Warming it up in a saucepan, you see, would<br />entail the extra washing-up of that saucepan -- something I<br />do NOT want to do.)  However, since I have never microwaved<br />this item, I don't know what, (if anything), microwaving<br />might do to the pretty yellow lid of this item.  IF micro-<br />waving damages or makes the lid unusuable for a soap-dish<br />drainer, my advice is to get ONE bowl, and either heat the<br />contents up in a saucepan, (with the attending washing-up),<br />or eat the contents oold, as I have.  (It's quite delicious<br />this way, as well.)<br /><br />For even more savings, buy just TWO Chef Boyardee Beef Ravioli<br />14.25 ounce bowls, or similar product in similar size bowls.<br />Then, afterwards, you can have TWO soap-dishes -- and use each<br />one alternately, for even more drying of each now even MORE long-<br />lasting cake of soap!<br /><br />If you don't like to keep looking at the somewhat truly attract-<br />ive bowl covering, you can always remove it.  Use the bowl<br />plain, ((mine was white on the outside), or decorate it with<br />stick ons of your favourite people, places, or things!<br /><br />So, unless you are not only a lazy chef like me -- but a super-<br />duper lazy chef -- my recommendation would be to buy TWO, (and<br />ONLY two) of these Chef Boyardee Beef Ravioli, or simiar prod-<br />uct, in 14.25 ounce, (or close to that size), bowls, at your<br />local supermarket.  As far as I can see, buying a pack of 12<br />here on Amazon is, sadly, totally unnecessary -- unless, as I<br />have said, you are not only a lazy chef-- but a super-duper<br />lazy chef.<br /><br />However, not buying THIS particular product on Amazon should<br />NOT stop you from buying OTHER bargains on Amazon!  In fact,<br />you can, (as I have), take a blank sticker, write, \"AMAZON<br />FOREVER!\" on it, stick it carefully on one of the bowls of<br />your new soap dish, and enjoy it, along with other home-made<br />stickers of favourite sayings or pictures!<br /><br />Of course, if you REALLY like this product a lot, you CAN<br />always treat yourself to buying a dozen of them, from Amazon,<br />on special occasions, like your birthday or wedding, or other<br />anniversary, etc.!  Or, you might want to get together with<br />six friends, and each of you can make a set of soap-dishes<br />from the dozen offered here on Amazon.  Whatever way you<br />choose to enjoy this delightfully delicious product --<br />BON APPETITE!!!!\n",
      "\n",
      "\n",
      "*Note to Amazon.com,<br /><br />Pretty please put this Liver on Subscribe and Save! You have the beef & liver and the beef available for S&S but not the Liver yet. THANK YOU SO MUCH!<br /><br />Now on to my review...<br /><br />My cat has been slowly switching to Newman's own beef products over from Wellness brand cat food (which is a great brand and will still be reserved for treats occasionally). I was ecstatic that there was a totally NO grain-and-NO fillers ORGANIC cat food I could feed my 9 year old cat who is prone to crystal formation in his bladder and also plaque build up on his teeth (even though I brush his outer teeth every evening).<br /><br />So far I've tried the beef & Liver and the Liver and he LOVES it. I just ordered the beef today for him which I'm sure he'll love too.<br /><br />This product *IS* very thick and concentrated (the beef liver alone has the consistency of a concentrated pate' and the beef & liver has the consistency of a gelatinous, thick beefy oatmeal), so I scoop it into his bowl and blend a bit of hot water to the product to warm the fats and make more of a 'gravy' for him (he also prefers to eat his food a bit warm anyhow). He barely wants to nibble at his Wellness brand cat food now (which I've had him on for over four years, so I guess that means he's one 'sold' cat. It might be unusual for a cat to love beef so much but my cat goes crazy for beef (especially if I make him steak when I can afford to). So, for me to find him a organic, no grain, beef based line of cat food made his day (and one of his nine lives no doubt)!<br /><br />Anyway, if you know your cat already loves beef and beef liver then he/she will probably be just peachy keen with this product.<br /><br />Here is the ingredients list for Newman's own canned beef cat products:<br /><br />Beef:<br /><br />Organic Beef, Organic Beef Broth, Minerals (Calcium Carbonate, Zinc Proteinate, Iron Carbonate, Copper Proteinate, Manganese Iodate, Calcium Iodate, Sodium Selenite), Taurine, Vitamins (Vitamin A, E, E, D3, B12 and K Supplements, Choline, Niacin, Pantothenic Acid, Riboflavin, Thiamine, Pyridoxine, Folic Acid, Biotin).<br /><br />GUARANTEED ANALYSIS:<br /><br />Crude Protein..................12.0% (min)<br />Crude Fat.........................4.5% (min)<br />Crude Fiber......................1.0% (max)<br />Moisture.........................82.0% (max)<br />Ash.................................1.0% (max)<br />Magnesium.....................0.02% (max)<br />Taurine..........................0.07% (min)<br /><br />CALORIC VALUE:<br /><br />As fed (Kcal/3oz can)...........156<br /><br />Liver:<br /><br />Organic Beef Liver, Organic Liver Broth, Minerals (Calcium Carbonate, Zinc Proteinate, Iron Carbonate, Copper Proteinate, Manganese Iodate, Calcium Iodate, Sodium Selenite), Taurine, Vitamins (Vitamin A, E, E, D3, B12 and K Supplements, Choline, Niacin, Pantothenic Acid, Riboflavin, Thiamine, Pyridoxine, Folic Acid, Biotin).<br /><br />GUARANTEED ANALYSIS:<br /><br />Crude Protein..................11.0% (min)<br />Crude Fat.........................2.5% (min)<br />Crude Fiber......................1.0% (max)<br />Moisture.........................83.0% (max)<br />Ash.................................1.5% (max)<br />Magnesium.....................0.02% (max)<br />Taurine..........................0.07% (min)<br /><br />CALORIC VALUE:<br /><br />As fed (Kcal/12oz can)...........129<br /><br />Beef & Liver:<br /><br />Organic Beef, Organic Beef Liver, Organic Beef Broth, Minerals (Calcium Carbonate, Zinc Proteinate, Iron Carbonate, Copper Proteinate, Manganese Iodate, Calcium Iodate, Sodium Selenite), Taurine, Vitamins (Vitamin A, E, E, D3, B12 and K Supplements, Choline, Niacin, Pantothenic Acid, Riboflavin, Thiamine, Pyridoxine, Folic Acid, Biotin).<br /><br />GUARANTEED ANALYSIS:<br /><br />Crude Protein..................10.0% (min)<br />Crude Fat.........................3.0% (min)<br />Crude Fiber......................1.0% (max)<br />Moisture.........................82.0% (max)<br />Ash.................................1.0% (max)<br />Magnesium.....................0.02% (max)<br />Taurine..........................0.07% (min)<br /><br />CALORIC VALUE:<br /><br />As fed (Kcal/12oz can)...........140<br /><br />Here's to Kitty's health!\n",
      "\n",
      "\n",
      "The Mint Milano cookies are wonderful. They have a light and crispy texture with a mild mint chocolate taste. The flavor reminds me a lot of the chocolate mint Girl Scout cookies although the texture of the 2 cookies are very different (the girl scout cookie is much denser).<br /><br />Unfortunately the cookies usually arrive with very few intact and several of mine were even broken into multiple pieces. They still taste pretty good though.<br /><br />Nutritional Facts copied from the actual package (July 2011):<br /><br />Serving size 2 cookies (25g/ 0.9oz)<br /><br />Servings per container about 8<br /><br />Calories per serving 130<br /><br />Calories from fat 70<br /><br />Total Fat 7g<br /><br />Saturated Fat 5g<br /><br />Trans Fat 0g<br /><br />Cholesterol less than 5 mg<br /><br />Sodium 65mg<br /><br />Total Carbohydrate 16g<br /><br />Dietary Fiber less than 1g<br /><br />Sugars 8g<br /><br />Protein 1g<br /><br />Vitamins A and C 0%<br /><br />Calcium 0%<br /><br />Iron 4%<br /><br />FYI, I purchased my cookies during 100 degree weather and except for some of the chocolate melting onto the inner wrapper the cookies were fine (I used 2 day shipping which might make a difference since the cookies weren't in the heat that long).<br /><br />At 15.88 for 4 bags of cookies the price per bag is 3.97 which is 48 cents more than the price printed on the cookie bag (3.49).\n",
      "\n",
      "\n",
      "Topic 2:\n",
      "food cat eating dog eat diet day cats science got\n",
      "\n",
      "\n",
      "This review will make me sound really stupid, but whatever. I don't really care as long as people find out what's real and can avoid my mistakes.<br /><br />I got my wonderful little sweet Bella Bean when she was a few days shy of three years old. She had been bounced around from house to house and eating whatever was cheap. I have had cats around me my entire life, for about twenty-five years now. My mother always just fed them whatever, the kinds of food you buy in the supermarket - Friskies, Nine Lives, Kit & Kaboodle, stuff like that. And our cats were always fine, at least in terms of their eating habits. They would eat in the morning, stop when they were done, come back, and eat some more when they got hungry.<br /><br />My housemate at the time was working for Hill's and assured me that this was the best food ever made, so great, so on and so forth. I now know that she is an utter buffoon, but I initially trusted her judgment, which is so unfortunate because she doesn't think. She also had plenty of coupons for free or deeply discounted bags, which made it a much more attractive choice.<br /><br />I first tried feeding the little Bean an unmeasured amount of Science Diet in a bowl, but that didn't work, as she would devour it in one sitting. So then I took to measuring it, and she did the same thing. Then I started parsing it out to twice a day. That didn't work either, because she would start going crazy in the middle of the day, running around, intentionally destroying things, deliberately spilling her water, crying, etc., until she got more food. So then I split it into three servings. Same thing. Then it got to be four servings. That was a little better, but it was too much maintenance and unrealistic to be around every day to feed her four times. So then it went back to three. All the while, I was trying to reduce the amount of food I was feeding her to less than 3/4 of a cup because she was a little chubby. Reducing was hell. She became even more hungry, but I figured she would get used to it. Not really.<br /><br />For over a year, she would wake me up every morning looking for food in a serious way, knocking things off my desk, ripping up any paper she could find, scratching at the door and committing general acts of mischief. As soon as she got food, she was back to her sweet self, but only for three or four hours.<br /><br />We thought she was bored, we thought she was a little nutty, and maybe even had a kitty eating disorder. She always wanted food. It was kind of funny but in the end it was just sad.<br /><br />A few weeks back, we took her to a new (good, non-money factory) vet for her second checkup since I've had her. I talked with him about her being always hungry. He asked what she ate, and I told him the adult indoor Science Diet. Without saying as much, he basically told me that this food is garbage and I should look for something else. He said cat food should have a protein followed by a carbohydrate as the first two ingredients. Science Diet does, in a very loose, by-product kind of way - ground up slaughterhouse leftovers and corn dust. Then they put a bunch of vitamins in it to make it \"healthy,\" instead of just using good ingredients from the beginning. Not that I care about spending money on the Bean, but this food is way too expensive for what it is.<br /><br />So we began transitioning her onto Wellness indoor formula about two weeks ago. She is still eating 50 percent Science Diet with 50 percent Wellness (you really shouldn't just give a cat different food one day out of the blue) but SHE NEVER FREAKS OUT ANYMORE. It's amazing. And it's 100 percent because she is eating real food now, along with that sawdust and chicken hearts I still regrettable have to feed her. We have her down to eating twice a day, only 1/3 cup in TOTAL. She was eating three times a day, 5/8 of a cup in total. Now she eats some in the morning, walks away, eats some more a few hours later, and then looks for dinner about twelve hours after her initial feeding. No more knocking things over, no more trashing Dad's papers on the desk, no more howling, no more deliberately spilled water on the floor. It's incredible.<br /><br />I feel so bad that I was doing this to her for so long. We really thought she was just being dramatic or whatever. But no, she was genuinely hungry because she wasn't eating any real food.<br /><br />Do your cat a favor - buy her or him so food made with real ingredients, things you would eat - Wellness, Halo, Innova, Evo, whatever. Figure it out for yourself, but please don't feed your cat this. It's garbage.\n",
      "\n",
      "\n",
      "This review will make me sound really stupid, but whatever. I don't really care as long as people find out what's real and can avoid my mistakes.<br /><br />I got my wonderful little sweet Bella Bean when she was a few days shy of three years old. She had been bounced around from house to house and eating whatever was cheap. I have had cats around me my entire life, for about twenty-five years now. My mother always just fed them whatever, the kinds of food you buy in the supermarket - Friskies, Nine Lives, Kit & Kaboodle, stuff like that. And our cats were always fine, at least in terms of their eating habits. They would eat in the morning, stop when they were done, come back, and eat some more when they got hungry.<br /><br />My housemate at the time was working for Hill's and assured me that this was the best food ever made, so great, so on and so forth. I now know that she is an utter buffoon, but I initially trusted her judgment, which is so unfortunate because she doesn't think. She also had plenty of coupons for free or deeply discounted bags, which made it a much more attractive choice.<br /><br />I first tried feeding the little Bean an unmeasured amount of Science Diet in a bowl, but that didn't work, as she would devour it in one sitting. So then I took to measuring it, and she did the same thing. Then I started parsing it out to twice a day. That didn't work either, because she would start going crazy in the middle of the day, running around, intentionally destroying things, deliberately spilling her water, crying, etc., until she got more food. So then I split it into three servings. Same thing. Then it got to be four servings. That was a little better, but it was too much maintenance and unrealistic to be around every day to feed her four times. So then it went back to three. All the while, I was trying to reduce the amount of food I was feeding her to less than 3/4 of a cup because she was a little chubby. Reducing was hell. She became even more hungry, but I figured she would get used to it. Not really.<br /><br />For over a year, she would wake me up every morning looking for food in a serious way, knocking things off my desk, ripping up any paper she could find, scratching at the door and committing general acts of mischief. As soon as she got food, she was back to her sweet self, but only for three or four hours.<br /><br />We thought she was bored, we thought she was a little nutty, and maybe even had a kitty eating disorder. She always wanted food. It was kind of funny but in the end it was just sad.<br /><br />A few weeks back, we took her to a new (good, non-money factory) vet for her second checkup since I've had her. I talked with him about her being always hungry. He asked what she ate, and I told him the adult indoor Science Diet. Without saying as much, he basically told me that this food is garbage and I should look for something else. He said cat food should have a protein followed by a carbohydrate as the first two ingredients. Science Diet does, in a very loose, by-product kind of way - ground up slaughterhouse leftovers and corn dust. Then they put a bunch of vitamins in it to make it \"healthy,\" instead of just using good ingredients from the beginning. Not that I care about spending money on the Bean, but this food is way too expensive for what it is.<br /><br />So we began transitioning her onto Wellness indoor formula about two weeks ago. She is still eating 50 percent Science Diet with 50 percent Wellness (you really shouldn't just give a cat different food one day out of the blue) but SHE NEVER FREAKS OUT ANYMORE. It's amazing. And it's 100 percent because she is eating real food now, along with that sawdust and chicken hearts I still regrettable have to feed her. We have her down to eating twice a day, only 1/3 cup in TOTAL. She was eating three times a day, 5/8 of a cup in total. Now she eats some in the morning, walks away, eats some more a few hours later, and then looks for dinner about twelve hours after her initial feeding. No more knocking things over, no more trashing Dad's papers on the desk, no more howling, no more deliberately spilled water on the floor. It's incredible.<br /><br />I feel so bad that I was doing this to her for so long. We really thought she was just being dramatic or whatever. But no, she was genuinely hungry because she wasn't eating any real food.<br /><br />Do your cat a favor - buy her or him so food made with real ingredients, things you would eat - Wellness, Halo, Innova, Evo, whatever. Figure it out for yourself, but please don't feed your cat this. It's garbage.\n",
      "\n",
      "\n",
      "This review will make me sound really stupid, but whatever. I don't really care as long as people find out what's real and can avoid my mistakes.<br /><br />I got my wonderful little sweet Bella Bean when she was a few days shy of three years old. She had been bounced around from house to house and eating whatever was cheap. I have had cats around me my entire life, for about twenty-five years now. My mother always just fed them whatever, the kinds of food you buy in the supermarket - Friskies, Nine Lives, Kit & Kaboodle, stuff like that. And our cats were always fine, at least in terms of their eating habits. They would eat in the morning, stop when they were done, come back, and eat some more when they got hungry.<br /><br />My housemate at the time was working for Hill's and assured me that this was the best food ever made, so great, so on and so forth. I now know that she is an utter buffoon, but I initially trusted her judgment, which is so unfortunate because she doesn't think. She also had plenty of coupons for free or deeply discounted bags, which made it a much more attractive choice.<br /><br />I first tried feeding the little Bean an unmeasured amount of Science Diet in a bowl, but that didn't work, as she would devour it in one sitting. So then I took to measuring it, and she did the same thing. Then I started parsing it out to twice a day. That didn't work either, because she would start going crazy in the middle of the day, running around, intentionally destroying things, deliberately spilling her water, crying, etc., until she got more food. So then I split it into three servings. Same thing. Then it got to be four servings. That was a little better, but it was too much maintenance and unrealistic to be around every day to feed her four times. So then it went back to three. All the while, I was trying to reduce the amount of food I was feeding her to less than 3/4 of a cup because she was a little chubby. Reducing was hell. She became even more hungry, but I figured she would get used to it. Not really.<br /><br />For over a year, she would wake me up every morning looking for food in a serious way, knocking things off my desk, ripping up any paper she could find, scratching at the door and committing general acts of mischief. As soon as she got food, she was back to her sweet self, but only for three or four hours.<br /><br />We thought she was bored, we thought she was a little nutty, and maybe even had a kitty eating disorder. She always wanted food. It was kind of funny but in the end it was just sad.<br /><br />A few weeks back, we took her to a new (good, non-money factory) vet for her second checkup since I've had her. I talked with him about her being always hungry. He asked what she ate, and I told him the adult indoor Science Diet. Without saying as much, he basically told me that this food is garbage and I should look for something else. He said cat food should have a protein followed by a carbohydrate as the first two ingredients. Science Diet does, in a very loose, by-product kind of way - ground up slaughterhouse leftovers and corn dust. Then they put a bunch of vitamins in it to make it \"healthy,\" instead of just using good ingredients from the beginning. Not that I care about spending money on the Bean, but this food is way too expensive for what it is.<br /><br />So we began transitioning her onto Wellness indoor formula about two weeks ago. She is still eating 50 percent Science Diet with 50 percent Wellness (you really shouldn't just give a cat different food one day out of the blue) but SHE NEVER FREAKS OUT ANYMORE. It's amazing. And it's 100 percent because she is eating real food now, along with that sawdust and chicken hearts I still regrettable have to feed her. We have her down to eating twice a day, only 1/3 cup in TOTAL. She was eating three times a day, 5/8 of a cup in total. Now she eats some in the morning, walks away, eats some more a few hours later, and then looks for dinner about twelve hours after her initial feeding. No more knocking things over, no more trashing Dad's papers on the desk, no more howling, no more deliberately spilled water on the floor. It's incredible.<br /><br />I feel so bad that I was doing this to her for so long. We really thought she was just being dramatic or whatever. But no, she was genuinely hungry because she wasn't eating any real food.<br /><br />Do your cat a favor - buy her or him so food made with real ingredients, things you would eat - Wellness, Halo, Innova, Evo, whatever. Figure it out for yourself, but please don't feed your cat this. It's garbage.\n",
      "\n",
      "\n",
      "This review will make me sound really stupid, but whatever. I don't really care as long as people find out what's real and can avoid my mistakes.<br /><br />I got my wonderful little sweet Bella Bean when she was a few days shy of three years old. She had been bounced around from house to house and eating whatever was cheap. I have had cats around me my entire life, for about twenty-five years now. My mother always just fed them whatever, the kinds of food you buy in the supermarket - Friskies, Nine Lives, Kit & Kaboodle, stuff like that. And our cats were always fine, at least in terms of their eating habits. They would eat in the morning, stop when they were done, come back, and eat some more when they got hungry.<br /><br />My housemate at the time was working for Hill's and assured me that this was the best food ever made, so great, so on and so forth. I now know that she is an utter buffoon, but I initially trusted her judgment, which is so unfortunate because she doesn't think. She also had plenty of coupons for free or deeply discounted bags, which made it a much more attractive choice.<br /><br />I first tried feeding the little Bean an unmeasured amount of Science Diet in a bowl, but that didn't work, as she would devour it in one sitting. So then I took to measuring it, and she did the same thing. Then I started parsing it out to twice a day. That didn't work either, because she would start going crazy in the middle of the day, running around, intentionally destroying things, deliberately spilling her water, crying, etc., until she got more food. So then I split it into three servings. Same thing. Then it got to be four servings. That was a little better, but it was too much maintenance and unrealistic to be around every day to feed her four times. So then it went back to three. All the while, I was trying to reduce the amount of food I was feeding her to less than 3/4 of a cup because she was a little chubby. Reducing was hell. She became even more hungry, but I figured she would get used to it. Not really.<br /><br />For over a year, she would wake me up every morning looking for food in a serious way, knocking things off my desk, ripping up any paper she could find, scratching at the door and committing general acts of mischief. As soon as she got food, she was back to her sweet self, but only for three or four hours.<br /><br />We thought she was bored, we thought she was a little nutty, and maybe even had a kitty eating disorder. She always wanted food. It was kind of funny but in the end it was just sad.<br /><br />A few weeks back, we took her to a new (good, non-money factory) vet for her second checkup since I've had her. I talked with him about her being always hungry. He asked what she ate, and I told him the adult indoor Science Diet. Without saying as much, he basically told me that this food is garbage and I should look for something else. He said cat food should have a protein followed by a carbohydrate as the first two ingredients. Science Diet does, in a very loose, by-product kind of way - ground up slaughterhouse leftovers and corn dust. Then they put a bunch of vitamins in it to make it \"healthy,\" instead of just using good ingredients from the beginning. Not that I care about spending money on the Bean, but this food is way too expensive for what it is.<br /><br />So we began transitioning her onto Wellness indoor formula about two weeks ago. She is still eating 50 percent Science Diet with 50 percent Wellness (you really shouldn't just give a cat different food one day out of the blue) but SHE NEVER FREAKS OUT ANYMORE. It's amazing. And it's 100 percent because she is eating real food now, along with that sawdust and chicken hearts I still regrettable have to feed her. We have her down to eating twice a day, only 1/3 cup in TOTAL. She was eating three times a day, 5/8 of a cup in total. Now she eats some in the morning, walks away, eats some more a few hours later, and then looks for dinner about twelve hours after her initial feeding. No more knocking things over, no more trashing Dad's papers on the desk, no more howling, no more deliberately spilled water on the floor. It's incredible.<br /><br />I feel so bad that I was doing this to her for so long. We really thought she was just being dramatic or whatever. But no, she was genuinely hungry because she wasn't eating any real food.<br /><br />Do your cat a favor - buy her or him so food made with real ingredients, things you would eat - Wellness, Halo, Innova, Evo, whatever. Figure it out for yourself, but please don't feed your cat this. It's garbage.\n",
      "\n",
      "\n",
      "Topic 3:\n",
      "coffee cup cups roast keurig chocolate dark beans bold good\n",
      "\n",
      "\n",
      "I picked up a package of Via out of curiosity. For the record, I am the owner of a coffee roastery and a cafe which has won \"Coffee Bar of the Year\" for the past 4 years in CT. We roast coffee for other cafes as well so I feel I have a pretty good grasp of what a good coffee should taste like. Here's my impression of Via:<br /><br />It is certainly easy to prepare. I generally drink a 16oz coffee so I used 2 packets (they are sized for an 8oz serving) to prepare my cup. The coffee is ready to drink as soon as it is stirred.<br /><br />I drink my coffee black and what I taste is only the coffee (my preference for brewing water is a neutral pH of 7, a Langelier Index of zero and no chlorine, fluoride, or lime).<br /><br />On to the coffee:  A good Colombian should be very balanced, with good body, brightness* and a nutty flavor. Truth be told, most Colombian coffee on the market is a bit boring, and most are at best a simply decent, clean cup with almost no aftertaste. Unfortunately this is only true if it's fresh** from a roaster which is unlikely.<br />The Via Colombian that I tried might have started out as an Arabica coffee from the low end of the Specialty Coffee spectrum. Since I don't know the timeline for production, it is very difficult to say how old the coffee was to begin with but there is definitely a \"woody\" note that I associate with aged beans. The actual flavor might not be terrible if you where able to separate out this woody note but unfortunately Via has a very objectionable mouth feel and aftertaste. After a few seconds, there is a very noticeable residue left on your tongue that is bitter and astringent. I typically associate this with a brew that has had coffee grounds siting in it such as when a coffee filter collapses while brewing.<br /><br />Bottom line for me: I would drink it only if my only other choice was a widely available and well known \"donut\" shop coffee (which I am mystified why anyone would drink...just terrible). As for the flavored versions of Via, I am really not a fan of ANY flavored coffee since these flavorings are typically unhealthy and serve mostly to mask the objectionable tastes of the coffee. I drink coffee because I like the flavor. This was my second tasting of Via. I tried it when it was first released in 2009 and was hoping to see an improvement but my notes from that tasting are very similar. I really think that a high end instant is a good idea, but unfortunately for me, Via misses the mark.<br /><br />For a quick and relatively convenient cup, I would suggest investing $30 in an \"AeroPress\" made by Aerobie and widely available. Armed with a freshly roasted coffee from your local micro roaster, you get a tasty, easy to prepare cup, and a very simple cleanup..<br /><br />* We use the descriptive term \"acidity\" to describe brightness. This is not to be confused with the often heard term \"acidic\" which people lament about a coffee that upsets their stomachs. This is thought of by many people in the industry to be the result contamination of chemical fertilizers, pesticides, molds, fungus, and other contaminants often found in non-specialty grade coffee. We believe that most of these complaints would disappear simply by trying a better quality coffee.<br />** Fresh = less than two weeks from roasting. Most coffee is WAY beyond this timeline....\n",
      "\n",
      "\n",
      "I was in a local supermarket one day when I noticed several ladies flocking into the coffee aisle and throwing eight or nine canisters at a time of Folgers Classic Roast coffee into their shopping carts! As it turns out, the coffee was on sale; and the customers wanted to \"stock up\" on it. I asked one of these customers about Folgers and she swore that it was the best coffee out there. I then tried it myself--and wow, those people sure were right!<br /><br />Folgers Classic Roast Ground Medium coffee can be made in any coffee pot or coffee maker and the seal on the top of the canister helps to keep the ground coffee fresh. The coffee is consistently tasteful and it gives you a great, good tasting pick-me-up in the morning.<br /><br />The directions are simple enough: Use roughly one tablespoon of Folger's ground coffee to make one six fluid ounce serving of coffee. I use two tablespoons full when I want a mug full of coffee to start my day. In addition, you probably should refrigerate the canister after you open it; but I leave the canister on my kitchen countertop or even in a kitchen cabinet and the coffee still tastes great. If you can catch a sale on this terrific coffee I would suggest that you stock up. You can even put the unused canisters in your freezer for up to several months, maybe even a year. It will stay fresh and taste every bit as good after you let it defrost.<br /><br />Only one cautionary note that you probably already figured anyway--don't drink this if you are sensitive to caffeine. Consult your doctor if your stomach or your system is sensitive to anything that contains caffeine before you drink this coffee. Folgers also makes decaffeinated coffee that is quite good; I've tried it.<br /><br />Folgers also makes this coffee at what they call different \"roast levels,\" or what we would probably call \"strengths.\" You can choose from mild, medium, medium-dark and dark. I usually see just medium and medium-dark on the grocer's shelf. Amazon offers the medium strength of the coffee which what I personally prefer.<br /><br />All in all, Folgers is far and away the best coffee on my grocer's shelf and it should remain extremely popular for some while to come. It costs a bit more than some other brands of coffee but it's worth every penny you'll spend on it. You won't be disappointed!\n",
      "\n",
      "\n",
      "I was bracing for this can of illy issimo coffee to contain a less-than-pleasant coffee experience, with a not-so-fresh, and overpoweringly strong-tasting coffee drink.<br /><br />I was wrong.<br /><br />The coffee contained within my little can had great, pure coffee flavor, with no \"can taste\". It wasn't overly sweet to me (although I DO like my coffee REALLY sweet. Like, \"melted coffee ice cream\" sweet...), and I was surprised to see that it looked to be just pure, brewed coffee - no cream added. I tend to brew my coffee pretty strong. Being a \"single cup a day to wake me up first thing\" kinda girl, I have a tendency to think that my daily cuppa Joe has to be beat-you-about-the-head powerful, and, recent changes in my taste have put that into question, as has this brew. It truly does taste like it was freshly brewed, then left to chill just long enough to give you the basis for a great cup of smooth, flavorful iced coffee, whether you choose to drink it straight, or gussy it up with a little flavored syrup and half-and-half (I opted for the latter).<br /><br />The previous can of illy issimo coffee that I'd tried <a href=\"http://www.amazon.com/gp/product/B002IEVJRY\">illy issimo Coffee Drink, Cappuccino, 8.45-Ounce Cans (Pack of 12)</a> didn't really knock my socks off; I mean, it was good, but it wasn't the best I've ever tasted. I'd given that to Starbucks' Frappuccino line of refrigerated coffee drinks. But THIS can of issimo coffee drink really was good enough to give Starbucks a run for their money, for me, at least, especially considering that this brew doesn't contain anything more than coffee, a little sugar to sweeten it, and a few preservatives to hold it over (which any factory-made coffee drink will contain, anyway).<br /><br />If you're on the run, and, for some odd reason, aren't able to get yourself a cuppa Joe on the go, I definitely would recommend this drink for the true coffee purist. I'd be surprised if you weren't pleasantly surprised by it!\n",
      "\n",
      "\n",
      "This <a href=\"http://www.amazon.com/gp/product/B002IEZJMA\">illy issimo Coffee Drink, Caff&egrave;, 6.8-Ounce Cans</a> is a good and quick iced coffee alternative for those of us who need the convenience from time to time, or for those of us who can sometimes feel a bit too lazy to make our own iced coffee. I really do like a good cup of coffee, but even with a 12-cup drip coffee maker, there's never enough to make iced coffee as much as I might like. I'm also one who as a rule drinks coffee black, with no sweeteners, cream or creamy substitutes.<br /><br />I've said 'iced coffee' as the minute I received it from Amazon, I noticed that it said \"DO NOT SHAKE\" imprinted four times around the rim of the 6.8-ounce can, so into the refrigerator it went for a couple of days.  Opened the can carefully, still wondering what the \"DO NOT SHAKE\" warning was all about, but it wasn't carbonated, so it was slowly poured into an 8-ounce glass.  At first taste, more of a coffee aficionado's tasting sip, it seemed a bit thin.  On second taste it got better, and a decent iced coffee taste emerged, slightly sweet, but with no objectionable artificial sweetener aftertaste.<br /><br />Reading on this, my illy issimo Caff&egrave; said on the can that it's a product of Denmark.  illycaff&egrave; SpA is based in Milan, Italy. Coca-Cola distributes it, so is this true international globalism in coffees? I don't know where the can is made.<br /><br />The product description here says that it's \"sweetened with beet sugar\" so that might account for this.  Beet sugar is more closely related to cane sugar, though there's only 10g sugar content, so I'm not too concerned with this light \"touch of sweetness\" cranking up a few pounds on the obesity index and I don't plan on drinking a six pack of this on a daily basis. Just glad to see that high-fructose corn syrup wasn't used as a sweetener.  Each can has 50 calories, according to the label, and digging here, the description states that there are 155 mg of caffeine. This puts this 6.8-ounce can just behind Starbuck's Grande (16 oz) iced coffee, which has about 165 mg of caffeine, and that's fine with me.<br /><br />Received this along with an order for <a href=\"http://www.amazon.com/gp/product/B002IEVJRY\">illy issimo Coffee Drink, Cappuccino, 8.45-Ounce Cans</a>, which also had that \"DO NOT SHAKE\" admonition on its rim,  but that's a separate taste issue into itself.<br /><br />Bottom Line:<br /><br />Doing the math, each 6.8 fluid ounce can here breaks down to just over two bucks per serving. If you were making your own coffee at home, a standard cup (8 fluid ounces) of even a premium grade of your favorite coffee would come in far cheaper, so this is no great bargain.  On the other hand, though I wouldn't call this \"Caff&egrave;\" an espresso, it subjectively does have a good taste, and it's far better than some of the caffeinated beverages that I've tried.  So breaking this down, here's my highly subjective rating:<br /><br />3-stars: simple 'bang-for-the-buck' value compared to regular home brewed coffee<br />5-stars: good taste and good caffeine content<br /><br />That being said, I'll average this as a solid 4-star product when it comes to caffeinated enjoyment.  Your taste may differ.<br /><br />But one of these days I'm going to ignore that \"DO NOT SHAKE\" warning and just try it to see what happens...<br /><br />6/4/2012\n",
      "\n",
      "\n",
      "Topic 4:\n",
      "coffee tea food cup day green eating cat science br\n",
      "\n",
      "\n",
      "I picked up a package of Via out of curiosity. For the record, I am the owner of a coffee roastery and a cafe which has won \"Coffee Bar of the Year\" for the past 4 years in CT. We roast coffee for other cafes as well so I feel I have a pretty good grasp of what a good coffee should taste like. Here's my impression of Via:<br /><br />It is certainly easy to prepare. I generally drink a 16oz coffee so I used 2 packets (they are sized for an 8oz serving) to prepare my cup. The coffee is ready to drink as soon as it is stirred.<br /><br />I drink my coffee black and what I taste is only the coffee (my preference for brewing water is a neutral pH of 7, a Langelier Index of zero and no chlorine, fluoride, or lime).<br /><br />On to the coffee:  A good Colombian should be very balanced, with good body, brightness* and a nutty flavor. Truth be told, most Colombian coffee on the market is a bit boring, and most are at best a simply decent, clean cup with almost no aftertaste. Unfortunately this is only true if it's fresh** from a roaster which is unlikely.<br />The Via Colombian that I tried might have started out as an Arabica coffee from the low end of the Specialty Coffee spectrum. Since I don't know the timeline for production, it is very difficult to say how old the coffee was to begin with but there is definitely a \"woody\" note that I associate with aged beans. The actual flavor might not be terrible if you where able to separate out this woody note but unfortunately Via has a very objectionable mouth feel and aftertaste. After a few seconds, there is a very noticeable residue left on your tongue that is bitter and astringent. I typically associate this with a brew that has had coffee grounds siting in it such as when a coffee filter collapses while brewing.<br /><br />Bottom line for me: I would drink it only if my only other choice was a widely available and well known \"donut\" shop coffee (which I am mystified why anyone would drink...just terrible). As for the flavored versions of Via, I am really not a fan of ANY flavored coffee since these flavorings are typically unhealthy and serve mostly to mask the objectionable tastes of the coffee. I drink coffee because I like the flavor. This was my second tasting of Via. I tried it when it was first released in 2009 and was hoping to see an improvement but my notes from that tasting are very similar. I really think that a high end instant is a good idea, but unfortunately for me, Via misses the mark.<br /><br />For a quick and relatively convenient cup, I would suggest investing $30 in an \"AeroPress\" made by Aerobie and widely available. Armed with a freshly roasted coffee from your local micro roaster, you get a tasty, easy to prepare cup, and a very simple cleanup..<br /><br />* We use the descriptive term \"acidity\" to describe brightness. This is not to be confused with the often heard term \"acidic\" which people lament about a coffee that upsets their stomachs. This is thought of by many people in the industry to be the result contamination of chemical fertilizers, pesticides, molds, fungus, and other contaminants often found in non-specialty grade coffee. We believe that most of these complaints would disappear simply by trying a better quality coffee.<br />** Fresh = less than two weeks from roasting. Most coffee is WAY beyond this timeline....\n",
      "\n",
      "\n",
      "****<br /><br />This tea is good---it is a meld of green and white teas: White tea, Japanese green tea, Chinese green tea, Assam green tea, Darjeeling green tea, and organic green tea from Sri Lanka. It has a mild and interesting taste, and doesn't appear to be as strong in its caffeine effects as some other green or white teas.<br /><br />I went to Stash's website to find out more about Fusion Green and White and it says that white tea is a very rare and healthful tea, even more so than green tea, containing powerful antioxidants; it is thought that white tea may have the strongest anti-carcinogenic effects of all teas.  White tea is not oxidized, but withered and dried by steaming. It is not clear exactly how much white tea is present in this tea compared to all of the greens---I'm thinking there might be far more green than white. Still, it is a fine tea nonetheless.<br /><br />For a basic green tea, with some extra-healthful white tea added, it is a not-overly-exciting but certainly tasty tea. I would especially recommend it for people new to tea drinking who want to branch out from orange pekoe to something different, and are looking for a gentle introduction to the wide world of teas.<br /><br />Note that this review is for the bulk packaging of six tea boxes, for an incredible Amazon price break!<br /><br />****\n",
      "\n",
      "\n",
      "I drink tea frequently and obsessively. At a minimum I drink 3 cups of tea per day and I prefer loose leaf tea over tea bags. In the mornings I opt for tea bags for efficiency and time. My morning teas alternate between Green Tea, English Breakfast, Earl Grey and Black Tea. As such, I am always tasting and trying new teas, especially the green tea variety. When I saw this tea offered, I jumped at the chance to get Higgins. But, I was highly disappointed.<br /><br />First, the taste is rather bland and weak. There is barely any flavor. I had a cup of tea whilst taking to a friend and during our conversation I noticed that I had finished the tea but had no memory of its flavors or qualities. I had no idea what I had drunk! It was the equivalent of drinking water. The only thing that comes across is hot water and some lemongrass flavor (see below re lemongrass). None of the green tea leaves flavor comes out. I opened up a tea bag and noticed that the leaves mix is rather powdery (no wonder there is barely any taste).<br /><br />Several reviewers (and the description) have mentioned that this tea has a lemon grass taste. Lemon grass is not something I use a lot but, thankfully, I had some lemon grass in my pantry. I tried it and ...the reviewers are very right. This tea has some lemon grass undertones.<br /><br />If you are looking for an very affordable and good tasting tea (in tea bag form), try Stash or even Lipton Pyramid Tea Bags. Something other than this.<br /><br />Overall, this is a pass. Money is better spent at better tea brands.\n",
      "\n",
      "\n",
      "I was in a local supermarket one day when I noticed several ladies flocking into the coffee aisle and throwing eight or nine canisters at a time of Folgers Classic Roast coffee into their shopping carts! As it turns out, the coffee was on sale; and the customers wanted to \"stock up\" on it. I asked one of these customers about Folgers and she swore that it was the best coffee out there. I then tried it myself--and wow, those people sure were right!<br /><br />Folgers Classic Roast Ground Medium coffee can be made in any coffee pot or coffee maker and the seal on the top of the canister helps to keep the ground coffee fresh. The coffee is consistently tasteful and it gives you a great, good tasting pick-me-up in the morning.<br /><br />The directions are simple enough: Use roughly one tablespoon of Folger's ground coffee to make one six fluid ounce serving of coffee. I use two tablespoons full when I want a mug full of coffee to start my day. In addition, you probably should refrigerate the canister after you open it; but I leave the canister on my kitchen countertop or even in a kitchen cabinet and the coffee still tastes great. If you can catch a sale on this terrific coffee I would suggest that you stock up. You can even put the unused canisters in your freezer for up to several months, maybe even a year. It will stay fresh and taste every bit as good after you let it defrost.<br /><br />Only one cautionary note that you probably already figured anyway--don't drink this if you are sensitive to caffeine. Consult your doctor if your stomach or your system is sensitive to anything that contains caffeine before you drink this coffee. Folgers also makes decaffeinated coffee that is quite good; I've tried it.<br /><br />Folgers also makes this coffee at what they call different \"roast levels,\" or what we would probably call \"strengths.\" You can choose from mild, medium, medium-dark and dark. I usually see just medium and medium-dark on the grocer's shelf. Amazon offers the medium strength of the coffee which what I personally prefer.<br /><br />All in all, Folgers is far and away the best coffee on my grocer's shelf and it should remain extremely popular for some while to come. It costs a bit more than some other brands of coffee but it's worth every penny you'll spend on it. You won't be disappointed!\n",
      "\n",
      "\n"
     ]
    }
   ],
   "source": [
    "print(\"\\n\\nLSI Topics \\n\\n\")\n",
    "display_topics(lsi_H, lsi_W, tf_feature_names, documents, no_top_words, no_top_documents)"
   ]
  },
  {
   "cell_type": "markdown",
   "id": "1d4a8ca9",
   "metadata": {},
   "source": [
    "### WordCloud"
   ]
  },
  {
   "cell_type": "code",
   "execution_count": 54,
   "id": "960cda95",
   "metadata": {},
   "outputs": [],
   "source": [
    "from wordcloud import WordCloud, STOPWORDS"
   ]
  },
  {
   "cell_type": "code",
   "execution_count": 55,
   "id": "48b0d15c",
   "metadata": {},
   "outputs": [],
   "source": [
    "plt.rcParams['font.size']=12                 \n",
    "plt.rcParams['savefig.dpi']=100             \n",
    "plt.rcParams['figure.subplot.bottom']=.1 "
   ]
  },
  {
   "cell_type": "code",
   "execution_count": 56,
   "id": "9d862716",
   "metadata": {},
   "outputs": [],
   "source": [
    "def print_cloud(data):\n",
    "    wordcloud = WordCloud(\n",
    "              background_color='white',\n",
    "              max_words=200,\n",
    "              max_font_size=40, \n",
    "              random_state=42\n",
    "             ).generate(str(data))\n",
    "    \n",
    "    return wordcloud"
   ]
  },
  {
   "cell_type": "code",
   "execution_count": 57,
   "id": "37e22c97",
   "metadata": {},
   "outputs": [
    {
     "data": {
      "image/png": "[encoded data removed]",
      "text/plain": [
       "<Figure size 432x288 with 1 Axes>"
      ]
     },
     "metadata": {
      "needs_background": "light"
     },
     "output_type": "display_data"
    }
   ],
   "source": [
    "wordcloud = print_cloud(df['Text'])\n",
    "fig = plt.figure(1)\n",
    "plt.imshow(wordcloud)\n",
    "plt.axis('off')\n",
    "plt.show()\n",
    "fig.savefig(\"word1.png\", dpi=900)"
   ]
  }
 ],
 "metadata": {
  "kernelspec": {
   "display_name": "Python 3 (ipykernel)",
   "language": "python",
   "name": "python3"
  },
  "language_info": {
   "codemirror_mode": {
    "name": "ipython",
    "version": 3
   },
   "file_extension": ".py",
   "mimetype": "text/x-python",
   "name": "python",
   "nbconvert_exporter": "python",
   "pygments_lexer": "ipython3",
   "version": "3.9.7"
  }
 },
 "nbformat": 4,
 "nbformat_minor": 5
}
